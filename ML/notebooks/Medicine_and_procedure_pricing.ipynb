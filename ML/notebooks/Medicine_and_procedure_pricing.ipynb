{
 "cells": [
  {
   "cell_type": "code",
   "execution_count": 1,
   "id": "e3fad2fb",
   "metadata": {
    "_cell_guid": "b1076dfc-b9ad-4769-8c92-a6c4dae69d19",
    "_uuid": "8f2839f25d086af736a60e9eeb907d3b93b6e0e5",
    "execution": {
     "iopub.execute_input": "2022-10-28T13:26:40.198689Z",
     "iopub.status.busy": "2022-10-28T13:26:40.198184Z",
     "iopub.status.idle": "2022-10-28T13:26:42.223720Z",
     "shell.execute_reply": "2022-10-28T13:26:42.222624Z"
    },
    "papermill": {
     "duration": 2.035793,
     "end_time": "2022-10-28T13:26:42.226523",
     "exception": false,
     "start_time": "2022-10-28T13:26:40.190730",
     "status": "completed"
    },
    "tags": []
   },
   "outputs": [
    {
     "data": {
      "text/html": [
       "<style type='text/css'>\n",
       ".datatable table.frame { margin-bottom: 0; }\n",
       ".datatable table.frame thead { border-bottom: none; }\n",
       ".datatable table.frame tr.coltypes td {  color: #FFFFFF;  line-height: 6px;  padding: 0 0.5em;}\n",
       ".datatable .bool    { background: #DDDD99; }\n",
       ".datatable .object  { background: #565656; }\n",
       ".datatable .int     { background: #5D9E5D; }\n",
       ".datatable .float   { background: #4040CC; }\n",
       ".datatable .str     { background: #CC4040; }\n",
       ".datatable .time    { background: #40CC40; }\n",
       ".datatable .row_index {  background: var(--jp-border-color3);  border-right: 1px solid var(--jp-border-color0);  color: var(--jp-ui-font-color3);  font-size: 9px;}\n",
       ".datatable .frame tbody td { text-align: left; }\n",
       ".datatable .frame tr.coltypes .row_index {  background: var(--jp-border-color0);}\n",
       ".datatable th:nth-child(2) { padding-left: 12px; }\n",
       ".datatable .hellipsis {  color: var(--jp-cell-editor-border-color);}\n",
       ".datatable .vellipsis {  background: var(--jp-layout-color0);  color: var(--jp-cell-editor-border-color);}\n",
       ".datatable .na {  color: var(--jp-cell-editor-border-color);  font-size: 80%;}\n",
       ".datatable .sp {  opacity: 0.25;}\n",
       ".datatable .footer { font-size: 9px; }\n",
       ".datatable .frame_dimensions {  background: var(--jp-border-color3);  border-top: 1px solid var(--jp-border-color0);  color: var(--jp-ui-font-color3);  display: inline-block;  opacity: 0.6;  padding: 1px 10px 1px 5px;}\n",
       "</style>\n"
      ],
      "text/plain": [
       "<IPython.core.display.HTML object>"
      ]
     },
     "metadata": {},
     "output_type": "display_data"
    }
   ],
   "source": [
    "import pandas as pd\n",
    "import numpy as np\n",
    "from sklearn.preprocessing import MinMaxScaler\n",
    "import lightgbm as lgb\n",
    "import pickle\n",
    "import math\n",
    "\n",
    "\n",
    "from sklearn.preprocessing import MinMaxScaler\n",
    "from sklearn.model_selection import train_test_split\n",
    "from sklearn.metrics import accuracy_score,confusion_matrix, mean_absolute_error,mean_squared_error"
   ]
  },
  {
   "cell_type": "code",
   "execution_count": 2,
   "id": "27b2f448",
   "metadata": {
    "execution": {
     "iopub.execute_input": "2022-10-28T13:26:42.237057Z",
     "iopub.status.busy": "2022-10-28T13:26:42.236692Z",
     "iopub.status.idle": "2022-10-28T13:26:51.131312Z",
     "shell.execute_reply": "2022-10-28T13:26:51.130075Z"
    },
    "papermill": {
     "duration": 8.902917,
     "end_time": "2022-10-28T13:26:51.134100",
     "exception": false,
     "start_time": "2022-10-28T13:26:42.231183",
     "status": "completed"
    },
    "tags": []
   },
   "outputs": [],
   "source": [
    "procedures = pd.read_csv(\"../input/syntheacovid100k/100k_synthea_covid19_csv/procedures.csv\")\n",
    "procedures.drop(columns = ['DATE','PATIENT','DESCRIPTION', 'REASONDESCRIPTION'], inplace = True)\n",
    "procedures = procedures.fillna(0)\n",
    "\n",
    "patients = pd.read_csv(\"../input/syntheacovid100k/100k_synthea_covid19_csv/patients.csv\")\n",
    "patients = patients[['Id','GENDER','MARITAL','ETHNICITY','STATE','CITY']]\n",
    "patients['MARITAL'] = patients['MARITAL'].fillna('Not Applicable')\n",
    "\n",
    "\n",
    "conditions = pd.read_csv(\"../input/syntheacovid100k/100k_synthea_covid19_csv/conditions.csv\")\n",
    "conditions = conditions[['ENCOUNTER', 'PATIENT','CODE']]"
   ]
  },
  {
   "cell_type": "code",
   "execution_count": 3,
   "id": "abf89624",
   "metadata": {
    "execution": {
     "iopub.execute_input": "2022-10-28T13:26:51.144599Z",
     "iopub.status.busy": "2022-10-28T13:26:51.144201Z",
     "iopub.status.idle": "2022-10-28T13:26:51.158216Z",
     "shell.execute_reply": "2022-10-28T13:26:51.157187Z"
    },
    "papermill": {
     "duration": 0.021992,
     "end_time": "2022-10-28T13:26:51.160665",
     "exception": false,
     "start_time": "2022-10-28T13:26:51.138673",
     "status": "completed"
    },
    "tags": []
   },
   "outputs": [],
   "source": [
    "def process_categorical(df, df_name, max_feature = None):\n",
    "    df.groupby('ENCOUNTER').agg({'CODE':'count'})\n",
    "    df['CODE'] = df['CODE'].astype(str)\n",
    "\n",
    "    if 'BASE_COST' in df.columns:\n",
    "        df_group = df.groupby('ENCOUNTER').agg({'CODE' : ','.join ,'BASE_COST' : 'sum'}).reset_index()\n",
    "    else:\n",
    "        df_group = df.groupby('ENCOUNTER').agg({'CODE' : ','.join }).reset_index()\n",
    "    df_group['CODE'] = df_group['CODE'].apply(lambda x : x.split(','))\n",
    "\n",
    "    to_delete = ['CODE']\n",
    "\n",
    "    if max_feature is None:\n",
    "        df_group['len'] = df_group['CODE'].apply(lambda x : len(x))\n",
    "        max_feature = int(df['len'].max())\n",
    "        to_delete.append('len')\n",
    "      \n",
    "    for i in range(0,max_feature):\n",
    "        df_group[f'{df_name}_CODE{i}'] = -1\n",
    "        df_group[f'{df_name}_CODE{i}'] = df_group['CODE'].apply(lambda x  : -1 if len(x) < i+1 else int(x[i]))  \n",
    "      \n",
    "    df_group.drop(columns = to_delete, inplace = True)\n",
    "    return df_group\n",
    "\n",
    "def process_condition_categorical(conditions):\n",
    "    conditions['CODE'] = conditions['CODE'].astype(str)\n",
    "    conditions_group = conditions.groupby('ENCOUNTER').agg({'CODE' : ','.join, 'PATIENT' : ','.join}).reset_index()\n",
    "    conditions_group['CODE'] = conditions_group['CODE'].apply(lambda x : x.split(','))\n",
    "    conditions_group['PATIENT'] = conditions_group['PATIENT'].apply(lambda x : x.split(',')[0])\n",
    "    \n",
    "    for i in range(0,15):\n",
    "        conditions_group[f'COND_CODE{i}'] = -1\n",
    "        conditions_group[f'COND_CODE{i}'] = conditions_group['CODE'].apply(lambda x  : -1 if len(x) < i+1 else int(x[i]))    \n",
    "    conditions_group.drop(columns = ['CODE'], inplace = True)\n",
    "    return conditions_group"
   ]
  },
  {
   "cell_type": "code",
   "execution_count": 4,
   "id": "3ee3576f",
   "metadata": {
    "execution": {
     "iopub.execute_input": "2022-10-28T13:26:51.171545Z",
     "iopub.status.busy": "2022-10-28T13:26:51.171133Z",
     "iopub.status.idle": "2022-10-28T13:27:15.221170Z",
     "shell.execute_reply": "2022-10-28T13:27:15.220122Z"
    },
    "papermill": {
     "duration": 24.058945,
     "end_time": "2022-10-28T13:27:15.223976",
     "exception": false,
     "start_time": "2022-10-28T13:26:51.165031",
     "status": "completed"
    },
    "tags": []
   },
   "outputs": [],
   "source": [
    "procedure_group = process_categorical(procedures, \"PROC\",12)\n",
    "condition_group = process_condition_categorical(conditions)"
   ]
  },
  {
   "cell_type": "code",
   "execution_count": 5,
   "id": "9ecc7372",
   "metadata": {
    "execution": {
     "iopub.execute_input": "2022-10-28T13:27:15.234550Z",
     "iopub.status.busy": "2022-10-28T13:27:15.234042Z",
     "iopub.status.idle": "2022-10-28T13:27:16.427602Z",
     "shell.execute_reply": "2022-10-28T13:27:16.426337Z"
    },
    "papermill": {
     "duration": 1.201532,
     "end_time": "2022-10-28T13:27:16.430120",
     "exception": false,
     "start_time": "2022-10-28T13:27:15.228588",
     "status": "completed"
    },
    "tags": []
   },
   "outputs": [],
   "source": [
    "patients.columns =['PATIENT', 'GENDER', 'MARITAL', 'ETHNICITY', 'STATE', 'CITY']\n",
    "merged = condition_group.merge(patients, on = 'PATIENT' )\n",
    "target_merged = merged.merge(procedure_group, on = 'ENCOUNTER')"
   ]
  },
  {
   "cell_type": "code",
   "execution_count": 6,
   "id": "ee454149",
   "metadata": {
    "execution": {
     "iopub.execute_input": "2022-10-28T13:27:16.440544Z",
     "iopub.status.busy": "2022-10-28T13:27:16.440157Z",
     "iopub.status.idle": "2022-10-28T13:27:16.471431Z",
     "shell.execute_reply": "2022-10-28T13:27:16.470524Z"
    },
    "papermill": {
     "duration": 0.039189,
     "end_time": "2022-10-28T13:27:16.473700",
     "exception": false,
     "start_time": "2022-10-28T13:27:16.434511",
     "status": "completed"
    },
    "tags": []
   },
   "outputs": [
    {
     "data": {
      "text/plain": [
       "Index(['COND_CODE0', 'COND_CODE1', 'COND_CODE2', 'COND_CODE3', 'COND_CODE4',\n",
       "       'COND_CODE5', 'COND_CODE6', 'COND_CODE7', 'COND_CODE8', 'COND_CODE9',\n",
       "       'COND_CODE10', 'COND_CODE11', 'COND_CODE12', 'COND_CODE13',\n",
       "       'COND_CODE14', 'GENDER', 'MARITAL', 'ETHNICITY', 'STATE', 'CITY',\n",
       "       'BASE_COST', 'PROC_CODE0', 'PROC_CODE1', 'PROC_CODE2', 'PROC_CODE3',\n",
       "       'PROC_CODE4', 'PROC_CODE5', 'PROC_CODE6', 'PROC_CODE7', 'PROC_CODE8',\n",
       "       'PROC_CODE9', 'PROC_CODE10', 'PROC_CODE11'],\n",
       "      dtype='object')"
      ]
     },
     "execution_count": 6,
     "metadata": {},
     "output_type": "execute_result"
    }
   ],
   "source": [
    "df = target_merged.iloc[:, 2:]\n",
    "df.columns"
   ]
  },
  {
   "cell_type": "code",
   "execution_count": 7,
   "id": "2366e272",
   "metadata": {
    "execution": {
     "iopub.execute_input": "2022-10-28T13:27:16.484203Z",
     "iopub.status.busy": "2022-10-28T13:27:16.483842Z",
     "iopub.status.idle": "2022-10-28T13:27:16.534116Z",
     "shell.execute_reply": "2022-10-28T13:27:16.532819Z"
    },
    "papermill": {
     "duration": 0.058805,
     "end_time": "2022-10-28T13:27:16.536888",
     "exception": false,
     "start_time": "2022-10-28T13:27:16.478083",
     "status": "completed"
    },
    "tags": []
   },
   "outputs": [],
   "source": [
    "cost = df[['BASE_COST']]\n",
    "df = df[['COND_CODE0', 'COND_CODE1', 'COND_CODE2', 'COND_CODE3', 'COND_CODE4',\n",
    "       'COND_CODE5', 'COND_CODE6', 'COND_CODE7', 'COND_CODE8', 'COND_CODE9',\n",
    "       'COND_CODE10', 'COND_CODE11', 'COND_CODE12', 'COND_CODE13',\n",
    "       'COND_CODE14', 'GENDER', 'MARITAL', 'ETHNICITY', 'STATE', 'CITY',\n",
    "       'PROC_CODE0', 'PROC_CODE1', 'PROC_CODE2', 'PROC_CODE3',\n",
    "       'PROC_CODE4', 'PROC_CODE5', 'PROC_CODE6', 'PROC_CODE7', 'PROC_CODE8',\n",
    "       'PROC_CODE9', 'PROC_CODE10', 'PROC_CODE11']]"
   ]
  },
  {
   "cell_type": "code",
   "execution_count": 8,
   "id": "be2c74bd",
   "metadata": {
    "execution": {
     "iopub.execute_input": "2022-10-28T13:27:16.547579Z",
     "iopub.status.busy": "2022-10-28T13:27:16.547191Z",
     "iopub.status.idle": "2022-10-28T13:27:16.552537Z",
     "shell.execute_reply": "2022-10-28T13:27:16.551688Z"
    },
    "papermill": {
     "duration": 0.013438,
     "end_time": "2022-10-28T13:27:16.554839",
     "exception": false,
     "start_time": "2022-10-28T13:27:16.541401",
     "status": "completed"
    },
    "tags": []
   },
   "outputs": [],
   "source": [
    "x_train, x_test = df.iloc[:-30000, :], df.iloc[-30000:,:]\n",
    "y_train, y_test = cost.iloc[:-30000, :], cost.iloc[-30000:,:]"
   ]
  },
  {
   "cell_type": "code",
   "execution_count": 9,
   "id": "da6242b2",
   "metadata": {
    "execution": {
     "iopub.execute_input": "2022-10-28T13:27:16.565532Z",
     "iopub.status.busy": "2022-10-28T13:27:16.565099Z",
     "iopub.status.idle": "2022-10-28T13:27:16.579695Z",
     "shell.execute_reply": "2022-10-28T13:27:16.578210Z"
    },
    "papermill": {
     "duration": 0.022833,
     "end_time": "2022-10-28T13:27:16.582229",
     "exception": false,
     "start_time": "2022-10-28T13:27:16.559396",
     "status": "completed"
    },
    "tags": []
   },
   "outputs": [],
   "source": [
    "def train_and_scale(x_train, x_test, y_train, y_test,names):\n",
    "    cat_columns = x_train.dtypes[x_train.dtypes == object].keys()\n",
    "    num_columns = x_train.dtypes[x_train.dtypes != object].keys()\n",
    "    \n",
    "    data_scaler = MinMaxScaler()\n",
    "    target_scaler = MinMaxScaler()\n",
    "    data_scaler.fit(x_train[num_columns])\n",
    "    target_scaler.fit(y_train)\n",
    "\n",
    "    x_train[num_columns] = data_scaler.transform(x_train[num_columns])\n",
    "    x_test[num_columns] = data_scaler.transform(x_test[num_columns])\n",
    "\n",
    "    y_train = target_scaler.transform(y_train)\n",
    "    y_test = target_scaler.transform(y_test)\n",
    "\n",
    "    x_train[cat_columns] = x_train[cat_columns].apply(lambda x : x.astype('category'))\n",
    "    x_test[cat_columns] = x_test[cat_columns].apply(lambda x : x.astype('category'))\n",
    "\n",
    "\n",
    "    params = {\n",
    "        'task': 'train', \n",
    "        'boosting': 'gbdt',\n",
    "        'objective': 'regression',\n",
    "        'num_leaves': 10,\n",
    "        'learnnig_rage': 0.05,\n",
    "        'metric': {'l2','l1'},\n",
    "        'verbose': -1\n",
    "    }\n",
    "    lgb_train = lgb.Dataset(x_train, y_train.reshape(1,-1)[0])\n",
    "    lgb_eval = lgb.Dataset(x_test, y_test.reshape(1,-1)[0]\n",
    "                           , reference=lgb_train)\n",
    "\n",
    "    model = lgb.train(params,\n",
    "                     train_set=lgb_train,\n",
    "                     valid_sets=lgb_eval,\n",
    "                     early_stopping_rounds=30)\n",
    "\n",
    "    preds = model.predict(x_test)\n",
    "    preds = target_scaler.inverse_transform(preds.reshape(-1, 1))\n",
    "    target = target_scaler.inverse_transform(y_test)\n",
    "    print(math.sqrt(mean_squared_error(target, preds)),mean_absolute_error(target,preds))\n",
    "\n",
    "    with open(f'price_{names}_data_scaler.pkl', 'wb') as fid:\n",
    "        pickle.dump(data_scaler, fid) \n",
    "    with open(f'price_{names}_target_scaler.pkl', 'wb') as fid:\n",
    "        pickle.dump(target_scaler, fid) \n",
    "    with open(f'price_{names}_model.pkl', 'wb') as fid:\n",
    "        pickle.dump(model, fid) \n"
   ]
  },
  {
   "cell_type": "code",
   "execution_count": 10,
   "id": "0cb1d96a",
   "metadata": {
    "execution": {
     "iopub.execute_input": "2022-10-28T13:27:16.592696Z",
     "iopub.status.busy": "2022-10-28T13:27:16.592266Z",
     "iopub.status.idle": "2022-10-28T13:27:17.752577Z",
     "shell.execute_reply": "2022-10-28T13:27:17.751555Z"
    },
    "papermill": {
     "duration": 1.168571,
     "end_time": "2022-10-28T13:27:17.755341",
     "exception": false,
     "start_time": "2022-10-28T13:27:16.586770",
     "status": "completed"
    },
    "tags": []
   },
   "outputs": [
    {
     "name": "stderr",
     "output_type": "stream",
     "text": [
      "/opt/conda/lib/python3.7/site-packages/pandas/core/frame.py:3678: SettingWithCopyWarning: \n",
      "A value is trying to be set on a copy of a slice from a DataFrame.\n",
      "Try using .loc[row_indexer,col_indexer] = value instead\n",
      "\n",
      "See the caveats in the documentation: https://pandas.pydata.org/pandas-docs/stable/user_guide/indexing.html#returning-a-view-versus-a-copy\n",
      "  self[col] = igetitem(value, i)\n",
      "/opt/conda/lib/python3.7/site-packages/pandas/core/frame.py:3678: SettingWithCopyWarning: \n",
      "A value is trying to be set on a copy of a slice from a DataFrame.\n",
      "Try using .loc[row_indexer,col_indexer] = value instead\n",
      "\n",
      "See the caveats in the documentation: https://pandas.pydata.org/pandas-docs/stable/user_guide/indexing.html#returning-a-view-versus-a-copy\n",
      "  self[col] = igetitem(value, i)\n",
      "/opt/conda/lib/python3.7/site-packages/pandas/core/frame.py:3641: SettingWithCopyWarning: \n",
      "A value is trying to be set on a copy of a slice from a DataFrame.\n",
      "Try using .loc[row_indexer,col_indexer] = value instead\n",
      "\n",
      "See the caveats in the documentation: https://pandas.pydata.org/pandas-docs/stable/user_guide/indexing.html#returning-a-view-versus-a-copy\n",
      "  self[k1] = value[k2]\n",
      "/opt/conda/lib/python3.7/site-packages/lightgbm/engine.py:181: UserWarning: 'early_stopping_rounds' argument is deprecated and will be removed in a future release of LightGBM. Pass 'early_stopping()' callback via 'callbacks' argument instead.\n",
      "  _log_warning(\"'early_stopping_rounds' argument is deprecated and will be removed in a future release of LightGBM. \"\n"
     ]
    },
    {
     "name": "stdout",
     "output_type": "stream",
     "text": [
      "[LightGBM] [Warning] Unknown parameter: learnnig_rage\n"
     ]
    },
    {
     "name": "stderr",
     "output_type": "stream",
     "text": [
      "/opt/conda/lib/python3.7/site-packages/lightgbm/basic.py:1780: UserWarning: Overriding the parameters from Reference Dataset.\n",
      "  _log_warning('Overriding the parameters from Reference Dataset.')\n",
      "/opt/conda/lib/python3.7/site-packages/lightgbm/basic.py:1513: UserWarning: categorical_column in param dict is overridden.\n",
      "  _log_warning(f'{cat_alias} in param dict is overridden.')\n"
     ]
    },
    {
     "name": "stdout",
     "output_type": "stream",
     "text": [
      "[1]\tvalid_0's l1: 0.0670391\tvalid_0's l2: 0.00865235\n",
      "Training until validation scores don't improve for 30 rounds\n",
      "[2]\tvalid_0's l1: 0.0610818\tvalid_0's l2: 0.00716112\n",
      "[3]\tvalid_0's l1: 0.0555711\tvalid_0's l2: 0.00593859\n",
      "[4]\tvalid_0's l1: 0.0507923\tvalid_0's l2: 0.00494929\n",
      "[5]\tvalid_0's l1: 0.0463401\tvalid_0's l2: 0.00413444\n",
      "[6]\tvalid_0's l1: 0.0422297\tvalid_0's l2: 0.00347081\n",
      "[7]\tvalid_0's l1: 0.0387512\tvalid_0's l2: 0.0029357\n",
      "[8]\tvalid_0's l1: 0.0353831\tvalid_0's l2: 0.00247954\n",
      "[9]\tvalid_0's l1: 0.032368\tvalid_0's l2: 0.00212182\n",
      "[10]\tvalid_0's l1: 0.0296549\tvalid_0's l2: 0.00181881\n",
      "[11]\tvalid_0's l1: 0.027238\tvalid_0's l2: 0.00157289\n",
      "[12]\tvalid_0's l1: 0.0251746\tvalid_0's l2: 0.00137322\n",
      "[13]\tvalid_0's l1: 0.0233224\tvalid_0's l2: 0.00121056\n",
      "[14]\tvalid_0's l1: 0.0215372\tvalid_0's l2: 0.00107352\n",
      "[15]\tvalid_0's l1: 0.0199342\tvalid_0's l2: 0.0009626\n",
      "[16]\tvalid_0's l1: 0.0185171\tvalid_0's l2: 0.000871324\n",
      "[17]\tvalid_0's l1: 0.0173072\tvalid_0's l2: 0.000798563\n",
      "[18]\tvalid_0's l1: 0.0161758\tvalid_0's l2: 0.000738148\n",
      "[19]\tvalid_0's l1: 0.0153102\tvalid_0's l2: 0.000690665\n",
      "[20]\tvalid_0's l1: 0.0144736\tvalid_0's l2: 0.000647189\n",
      "[21]\tvalid_0's l1: 0.0135929\tvalid_0's l2: 0.000611685\n",
      "[22]\tvalid_0's l1: 0.0128508\tvalid_0's l2: 0.000581281\n",
      "[23]\tvalid_0's l1: 0.0122403\tvalid_0's l2: 0.000557158\n",
      "[24]\tvalid_0's l1: 0.0117101\tvalid_0's l2: 0.000535477\n",
      "[25]\tvalid_0's l1: 0.0111511\tvalid_0's l2: 0.000515823\n",
      "[26]\tvalid_0's l1: 0.0107581\tvalid_0's l2: 0.000500857\n",
      "[27]\tvalid_0's l1: 0.0103823\tvalid_0's l2: 0.000489762\n",
      "[28]\tvalid_0's l1: 0.0100585\tvalid_0's l2: 0.000479738\n",
      "[29]\tvalid_0's l1: 0.00968906\tvalid_0's l2: 0.000469806\n",
      "[30]\tvalid_0's l1: 0.00945296\tvalid_0's l2: 0.000464042\n",
      "[31]\tvalid_0's l1: 0.00907318\tvalid_0's l2: 0.000451438\n",
      "[32]\tvalid_0's l1: 0.00886107\tvalid_0's l2: 0.000446396\n",
      "[33]\tvalid_0's l1: 0.00855927\tvalid_0's l2: 0.000434877\n",
      "[34]\tvalid_0's l1: 0.00838942\tvalid_0's l2: 0.000427512\n",
      "[35]\tvalid_0's l1: 0.00814351\tvalid_0's l2: 0.000418182\n",
      "[36]\tvalid_0's l1: 0.00802383\tvalid_0's l2: 0.000413478\n",
      "[37]\tvalid_0's l1: 0.00791311\tvalid_0's l2: 0.000410997\n",
      "[38]\tvalid_0's l1: 0.00766914\tvalid_0's l2: 0.000404091\n",
      "[39]\tvalid_0's l1: 0.00748925\tvalid_0's l2: 0.000400842\n",
      "[40]\tvalid_0's l1: 0.00737319\tvalid_0's l2: 0.000396831\n",
      "[41]\tvalid_0's l1: 0.00716888\tvalid_0's l2: 0.000390471\n",
      "[42]\tvalid_0's l1: 0.00698629\tvalid_0's l2: 0.000385202\n",
      "[43]\tvalid_0's l1: 0.00688813\tvalid_0's l2: 0.000382833\n",
      "[44]\tvalid_0's l1: 0.0068282\tvalid_0's l2: 0.000380119\n",
      "[45]\tvalid_0's l1: 0.00676994\tvalid_0's l2: 0.000378523\n",
      "[46]\tvalid_0's l1: 0.0067055\tvalid_0's l2: 0.000376552\n",
      "[47]\tvalid_0's l1: 0.0066022\tvalid_0's l2: 0.000374083\n",
      "[48]\tvalid_0's l1: 0.00656225\tvalid_0's l2: 0.000371773\n",
      "[49]\tvalid_0's l1: 0.00651158\tvalid_0's l2: 0.000371251\n",
      "[50]\tvalid_0's l1: 0.00645408\tvalid_0's l2: 0.000369764\n",
      "[51]\tvalid_0's l1: 0.00640917\tvalid_0's l2: 0.000366504\n",
      "[52]\tvalid_0's l1: 0.00635258\tvalid_0's l2: 0.000364974\n",
      "[53]\tvalid_0's l1: 0.00632053\tvalid_0's l2: 0.00036403\n",
      "[54]\tvalid_0's l1: 0.0062717\tvalid_0's l2: 0.000362855\n",
      "[55]\tvalid_0's l1: 0.00621826\tvalid_0's l2: 0.000360139\n",
      "[56]\tvalid_0's l1: 0.00617061\tvalid_0's l2: 0.0003592\n",
      "[57]\tvalid_0's l1: 0.00615608\tvalid_0's l2: 0.000358066\n",
      "[58]\tvalid_0's l1: 0.00611401\tvalid_0's l2: 0.000356976\n",
      "[59]\tvalid_0's l1: 0.00607353\tvalid_0's l2: 0.000355176\n",
      "[60]\tvalid_0's l1: 0.00601708\tvalid_0's l2: 0.000353184\n",
      "[61]\tvalid_0's l1: 0.00599316\tvalid_0's l2: 0.000352604\n",
      "[62]\tvalid_0's l1: 0.00594641\tvalid_0's l2: 0.000351381\n",
      "[63]\tvalid_0's l1: 0.00591365\tvalid_0's l2: 0.000350583\n",
      "[64]\tvalid_0's l1: 0.00589265\tvalid_0's l2: 0.000349272\n",
      "[65]\tvalid_0's l1: 0.00586921\tvalid_0's l2: 0.000348162\n",
      "[66]\tvalid_0's l1: 0.00582141\tvalid_0's l2: 0.000347514\n",
      "[67]\tvalid_0's l1: 0.00579316\tvalid_0's l2: 0.000346274\n",
      "[68]\tvalid_0's l1: 0.00578374\tvalid_0's l2: 0.000345706\n",
      "[69]\tvalid_0's l1: 0.00576171\tvalid_0's l2: 0.000344724\n",
      "[70]\tvalid_0's l1: 0.00575043\tvalid_0's l2: 0.00034387\n",
      "[71]\tvalid_0's l1: 0.00572873\tvalid_0's l2: 0.000343721\n",
      "[72]\tvalid_0's l1: 0.00572416\tvalid_0's l2: 0.00034342\n",
      "[73]\tvalid_0's l1: 0.00570085\tvalid_0's l2: 0.000342889\n",
      "[74]\tvalid_0's l1: 0.00567396\tvalid_0's l2: 0.000342527\n",
      "[75]\tvalid_0's l1: 0.00565191\tvalid_0's l2: 0.000341792\n",
      "[76]\tvalid_0's l1: 0.00562567\tvalid_0's l2: 0.000341657\n",
      "[77]\tvalid_0's l1: 0.00561653\tvalid_0's l2: 0.000341689\n",
      "[78]\tvalid_0's l1: 0.00560742\tvalid_0's l2: 0.000340981\n",
      "[79]\tvalid_0's l1: 0.00559889\tvalid_0's l2: 0.00034105\n",
      "[80]\tvalid_0's l1: 0.00558018\tvalid_0's l2: 0.000340416\n",
      "[81]\tvalid_0's l1: 0.00555769\tvalid_0's l2: 0.000340195\n",
      "[82]\tvalid_0's l1: 0.00554275\tvalid_0's l2: 0.000339495\n",
      "[83]\tvalid_0's l1: 0.00553786\tvalid_0's l2: 0.000339282\n",
      "[84]\tvalid_0's l1: 0.00552702\tvalid_0's l2: 0.000338259\n",
      "[85]\tvalid_0's l1: 0.0055199\tvalid_0's l2: 0.000337996\n",
      "[86]\tvalid_0's l1: 0.00552082\tvalid_0's l2: 0.000337887\n",
      "[87]\tvalid_0's l1: 0.00550328\tvalid_0's l2: 0.000337968\n",
      "[88]\tvalid_0's l1: 0.00549881\tvalid_0's l2: 0.000337641\n",
      "[89]\tvalid_0's l1: 0.00547288\tvalid_0's l2: 0.000335931\n",
      "[90]\tvalid_0's l1: 0.00546544\tvalid_0's l2: 0.000335476\n",
      "[91]\tvalid_0's l1: 0.00544606\tvalid_0's l2: 0.000335173\n",
      "[92]\tvalid_0's l1: 0.00544006\tvalid_0's l2: 0.000334831\n",
      "[93]\tvalid_0's l1: 0.00542575\tvalid_0's l2: 0.000334647\n",
      "[94]\tvalid_0's l1: 0.00542066\tvalid_0's l2: 0.000334226\n",
      "[95]\tvalid_0's l1: 0.0054134\tvalid_0's l2: 0.000334443\n",
      "[96]\tvalid_0's l1: 0.00540145\tvalid_0's l2: 0.0003342\n",
      "[97]\tvalid_0's l1: 0.00539282\tvalid_0's l2: 0.000333735\n",
      "[98]\tvalid_0's l1: 0.0053863\tvalid_0's l2: 0.000333548\n",
      "[99]\tvalid_0's l1: 0.00537959\tvalid_0's l2: 0.000333174\n",
      "[100]\tvalid_0's l1: 0.00537251\tvalid_0's l2: 0.000332896\n",
      "Did not meet early stopping. Best iteration is:\n",
      "[100]\tvalid_0's l1: 0.00537251\tvalid_0's l2: 0.000332896\n",
      "2370.1744721188165 697.9158054538899\n"
     ]
    }
   ],
   "source": [
    "train_and_scale(x_train, x_test, y_train, y_test,'procedure')"
   ]
  },
  {
   "cell_type": "markdown",
   "id": "a90d7839",
   "metadata": {
    "papermill": {
     "duration": 0.00576,
     "end_time": "2022-10-28T13:27:17.767155",
     "exception": false,
     "start_time": "2022-10-28T13:27:17.761395",
     "status": "completed"
    },
    "tags": []
   },
   "source": [
    "# Medicine Pricing"
   ]
  },
  {
   "cell_type": "code",
   "execution_count": 11,
   "id": "9b172673",
   "metadata": {
    "execution": {
     "iopub.execute_input": "2022-10-28T13:27:17.778865Z",
     "iopub.status.busy": "2022-10-28T13:27:17.778223Z",
     "iopub.status.idle": "2022-10-28T13:29:01.238490Z",
     "shell.execute_reply": "2022-10-28T13:29:01.237398Z"
    },
    "papermill": {
     "duration": 103.46893,
     "end_time": "2022-10-28T13:29:01.241037",
     "exception": false,
     "start_time": "2022-10-28T13:27:17.772107",
     "status": "completed"
    },
    "tags": []
   },
   "outputs": [],
   "source": [
    "medications = pd.read_csv(\"../input/syntheacovid100k/100k_synthea_covid19_csv/medications.csv\")\n",
    "medications = medications[['PATIENT', 'ENCOUNTER' , 'CODE', 'TOTALCOST', 'REASONCODE']]\n",
    "\n",
    "medications['CODE'] = medications['CODE'].astype(str)\n",
    "fin = medications.groupby('ENCOUNTER').agg({'CODE' : ','.join,'PATIENT' : ','.join ,'TOTALCOST' : 'sum'}).reset_index()\n",
    "fin['CODE'] = fin['CODE'].apply(lambda x : x.split(','))\n",
    "fin['PATIENT'] = fin['PATIENT'].apply(lambda x : x.split(',')[0])\n",
    "\n",
    "for i in range(0,17):\n",
    "    fin[f'MED_CODE{i}'] = -1\n",
    "    fin[f'MED_CODE{i}'] = fin['CODE'].apply(lambda x  : -1 if len(x) < i+1 else int(x[i]))  \n",
    "fin.drop(columns = ['CODE'], inplace = True)"
   ]
  },
  {
   "cell_type": "code",
   "execution_count": 12,
   "id": "1486deea",
   "metadata": {
    "execution": {
     "iopub.execute_input": "2022-10-28T13:29:01.253310Z",
     "iopub.status.busy": "2022-10-28T13:29:01.252920Z",
     "iopub.status.idle": "2022-10-28T13:29:04.187929Z",
     "shell.execute_reply": "2022-10-28T13:29:04.186767Z"
    },
    "papermill": {
     "duration": 2.944302,
     "end_time": "2022-10-28T13:29:04.190829",
     "exception": false,
     "start_time": "2022-10-28T13:29:01.246527",
     "status": "completed"
    },
    "tags": []
   },
   "outputs": [],
   "source": [
    "med_merged = target_merged.merge(fin, on = 'ENCOUNTER')\n",
    "\n",
    "cost_med = med_merged[['TOTALCOST']]\n",
    "df_med = med_merged[['COND_CODE0', 'COND_CODE1', 'COND_CODE2', 'COND_CODE3', 'COND_CODE4',\n",
    "       'COND_CODE5', 'COND_CODE6', 'COND_CODE7', 'COND_CODE8', 'COND_CODE9',\n",
    "       'COND_CODE10', 'COND_CODE11', 'COND_CODE12', 'COND_CODE13',\n",
    "       'COND_CODE14', 'GENDER', 'MARITAL', 'ETHNICITY', 'STATE', 'CITY',\n",
    "       'BASE_COST', 'PROC_CODE0', 'PROC_CODE1', 'PROC_CODE2', 'PROC_CODE3',\n",
    "       'PROC_CODE4', 'PROC_CODE5', 'PROC_CODE6', 'PROC_CODE7', 'PROC_CODE8',\n",
    "       'PROC_CODE9', 'PROC_CODE10', 'PROC_CODE11', 'MED_CODE0',\n",
    "       'MED_CODE1', 'MED_CODE2', 'MED_CODE3', 'MED_CODE4', 'MED_CODE5',\n",
    "       'MED_CODE6', 'MED_CODE7', 'MED_CODE8', 'MED_CODE9', 'MED_CODE10',\n",
    "       'MED_CODE11', 'MED_CODE12', 'MED_CODE13', 'MED_CODE14', 'MED_CODE15',\n",
    "       'MED_CODE16']]\n",
    "\n",
    "x_med_train, x_med_test = df_med.iloc[:-20000, :], df_med.iloc[-20000:,:]\n",
    "y_med_train, y_med_test = cost_med.iloc[:-20000, :], cost_med.iloc[-20000:,:]"
   ]
  },
  {
   "cell_type": "code",
   "execution_count": 13,
   "id": "2a3c7313",
   "metadata": {
    "execution": {
     "iopub.execute_input": "2022-10-28T13:29:04.204535Z",
     "iopub.status.busy": "2022-10-28T13:29:04.204114Z",
     "iopub.status.idle": "2022-10-28T13:29:04.685004Z",
     "shell.execute_reply": "2022-10-28T13:29:04.683058Z"
    },
    "papermill": {
     "duration": 0.491899,
     "end_time": "2022-10-28T13:29:04.687799",
     "exception": false,
     "start_time": "2022-10-28T13:29:04.195900",
     "status": "completed"
    },
    "tags": []
   },
   "outputs": [
    {
     "name": "stderr",
     "output_type": "stream",
     "text": [
      "/opt/conda/lib/python3.7/site-packages/pandas/core/frame.py:3678: SettingWithCopyWarning: \n",
      "A value is trying to be set on a copy of a slice from a DataFrame.\n",
      "Try using .loc[row_indexer,col_indexer] = value instead\n",
      "\n",
      "See the caveats in the documentation: https://pandas.pydata.org/pandas-docs/stable/user_guide/indexing.html#returning-a-view-versus-a-copy\n",
      "  self[col] = igetitem(value, i)\n",
      "/opt/conda/lib/python3.7/site-packages/pandas/core/frame.py:3678: SettingWithCopyWarning: \n",
      "A value is trying to be set on a copy of a slice from a DataFrame.\n",
      "Try using .loc[row_indexer,col_indexer] = value instead\n",
      "\n",
      "See the caveats in the documentation: https://pandas.pydata.org/pandas-docs/stable/user_guide/indexing.html#returning-a-view-versus-a-copy\n",
      "  self[col] = igetitem(value, i)\n",
      "/opt/conda/lib/python3.7/site-packages/pandas/core/frame.py:3641: SettingWithCopyWarning: \n",
      "A value is trying to be set on a copy of a slice from a DataFrame.\n",
      "Try using .loc[row_indexer,col_indexer] = value instead\n",
      "\n",
      "See the caveats in the documentation: https://pandas.pydata.org/pandas-docs/stable/user_guide/indexing.html#returning-a-view-versus-a-copy\n",
      "  self[k1] = value[k2]\n",
      "/opt/conda/lib/python3.7/site-packages/lightgbm/engine.py:181: UserWarning: 'early_stopping_rounds' argument is deprecated and will be removed in a future release of LightGBM. Pass 'early_stopping()' callback via 'callbacks' argument instead.\n",
      "  _log_warning(\"'early_stopping_rounds' argument is deprecated and will be removed in a future release of LightGBM. \"\n",
      "/opt/conda/lib/python3.7/site-packages/lightgbm/basic.py:1780: UserWarning: Overriding the parameters from Reference Dataset.\n",
      "  _log_warning('Overriding the parameters from Reference Dataset.')\n",
      "/opt/conda/lib/python3.7/site-packages/lightgbm/basic.py:1513: UserWarning: categorical_column in param dict is overridden.\n",
      "  _log_warning(f'{cat_alias} in param dict is overridden.')\n"
     ]
    },
    {
     "name": "stdout",
     "output_type": "stream",
     "text": [
      "[LightGBM] [Warning] Unknown parameter: learnnig_rage\n",
      "[1]\tvalid_0's l1: 0.0352007\tvalid_0's l2: 0.00293619\n",
      "Training until validation scores don't improve for 30 rounds\n",
      "[2]\tvalid_0's l1: 0.0328863\tvalid_0's l2: 0.00258721\n",
      "[3]\tvalid_0's l1: 0.0307938\tvalid_0's l2: 0.00230486\n",
      "[4]\tvalid_0's l1: 0.0290675\tvalid_0's l2: 0.00208229\n",
      "[5]\tvalid_0's l1: 0.0273172\tvalid_0's l2: 0.00189016\n",
      "[6]\tvalid_0's l1: 0.0257287\tvalid_0's l2: 0.00173224\n",
      "[7]\tvalid_0's l1: 0.0245582\tvalid_0's l2: 0.00160004\n",
      "[8]\tvalid_0's l1: 0.0234679\tvalid_0's l2: 0.00149727\n",
      "[9]\tvalid_0's l1: 0.0225131\tvalid_0's l2: 0.00141294\n",
      "[10]\tvalid_0's l1: 0.0216347\tvalid_0's l2: 0.00133927\n",
      "[11]\tvalid_0's l1: 0.0208942\tvalid_0's l2: 0.00128003\n",
      "[12]\tvalid_0's l1: 0.0201383\tvalid_0's l2: 0.00122429\n",
      "[13]\tvalid_0's l1: 0.0194834\tvalid_0's l2: 0.00118364\n",
      "[14]\tvalid_0's l1: 0.0189039\tvalid_0's l2: 0.00115016\n",
      "[15]\tvalid_0's l1: 0.0183628\tvalid_0's l2: 0.0011229\n",
      "[16]\tvalid_0's l1: 0.0178507\tvalid_0's l2: 0.00109209\n",
      "[17]\tvalid_0's l1: 0.0174342\tvalid_0's l2: 0.00107068\n",
      "[18]\tvalid_0's l1: 0.0169501\tvalid_0's l2: 0.00104607\n",
      "[19]\tvalid_0's l1: 0.0165814\tvalid_0's l2: 0.00103025\n",
      "[20]\tvalid_0's l1: 0.0161754\tvalid_0's l2: 0.00101176\n",
      "[21]\tvalid_0's l1: 0.0158775\tvalid_0's l2: 0.000998646\n",
      "[22]\tvalid_0's l1: 0.0156311\tvalid_0's l2: 0.000987791\n",
      "[23]\tvalid_0's l1: 0.0154392\tvalid_0's l2: 0.00098119\n",
      "[24]\tvalid_0's l1: 0.0152238\tvalid_0's l2: 0.000973271\n",
      "[25]\tvalid_0's l1: 0.0150024\tvalid_0's l2: 0.00096597\n",
      "[26]\tvalid_0's l1: 0.0148381\tvalid_0's l2: 0.00095667\n",
      "[27]\tvalid_0's l1: 0.0147443\tvalid_0's l2: 0.000953988\n",
      "[28]\tvalid_0's l1: 0.014642\tvalid_0's l2: 0.00095018\n",
      "[29]\tvalid_0's l1: 0.0144786\tvalid_0's l2: 0.000944304\n",
      "[30]\tvalid_0's l1: 0.0143873\tvalid_0's l2: 0.000941296\n",
      "[31]\tvalid_0's l1: 0.0142879\tvalid_0's l2: 0.000939717\n",
      "[32]\tvalid_0's l1: 0.0141147\tvalid_0's l2: 0.000932584\n",
      "[33]\tvalid_0's l1: 0.0140422\tvalid_0's l2: 0.000931811\n",
      "[34]\tvalid_0's l1: 0.0140123\tvalid_0's l2: 0.000931067\n",
      "[35]\tvalid_0's l1: 0.013933\tvalid_0's l2: 0.000929317\n",
      "[36]\tvalid_0's l1: 0.0138932\tvalid_0's l2: 0.000928564\n",
      "[37]\tvalid_0's l1: 0.0137397\tvalid_0's l2: 0.000923748\n",
      "[38]\tvalid_0's l1: 0.0137262\tvalid_0's l2: 0.000922917\n",
      "[39]\tvalid_0's l1: 0.0136558\tvalid_0's l2: 0.000920479\n",
      "[40]\tvalid_0's l1: 0.0135834\tvalid_0's l2: 0.000918291\n",
      "[41]\tvalid_0's l1: 0.0135679\tvalid_0's l2: 0.000917362\n",
      "[42]\tvalid_0's l1: 0.013546\tvalid_0's l2: 0.000917331\n",
      "[43]\tvalid_0's l1: 0.013497\tvalid_0's l2: 0.000916453\n",
      "[44]\tvalid_0's l1: 0.0134305\tvalid_0's l2: 0.000914892\n",
      "[45]\tvalid_0's l1: 0.01342\tvalid_0's l2: 0.000914606\n",
      "[46]\tvalid_0's l1: 0.0133629\tvalid_0's l2: 0.000913771\n",
      "[47]\tvalid_0's l1: 0.0132812\tvalid_0's l2: 0.000910773\n",
      "[48]\tvalid_0's l1: 0.0132712\tvalid_0's l2: 0.000910292\n",
      "[49]\tvalid_0's l1: 0.0132547\tvalid_0's l2: 0.000909545\n",
      "[50]\tvalid_0's l1: 0.0132534\tvalid_0's l2: 0.000909378\n",
      "[51]\tvalid_0's l1: 0.0131822\tvalid_0's l2: 0.00090691\n",
      "[52]\tvalid_0's l1: 0.013135\tvalid_0's l2: 0.000906604\n",
      "[53]\tvalid_0's l1: 0.01311\tvalid_0's l2: 0.000905112\n",
      "[54]\tvalid_0's l1: 0.0131116\tvalid_0's l2: 0.000905011\n",
      "[55]\tvalid_0's l1: 0.0131239\tvalid_0's l2: 0.000907189\n",
      "[56]\tvalid_0's l1: 0.0131199\tvalid_0's l2: 0.000907156\n",
      "[57]\tvalid_0's l1: 0.0131083\tvalid_0's l2: 0.000906791\n",
      "[58]\tvalid_0's l1: 0.0130517\tvalid_0's l2: 0.000905447\n",
      "[59]\tvalid_0's l1: 0.0130479\tvalid_0's l2: 0.000904477\n",
      "[60]\tvalid_0's l1: 0.0130424\tvalid_0's l2: 0.000905183\n",
      "[61]\tvalid_0's l1: 0.0130134\tvalid_0's l2: 0.000903476\n",
      "[62]\tvalid_0's l1: 0.0130258\tvalid_0's l2: 0.00090555\n",
      "[63]\tvalid_0's l1: 0.012998\tvalid_0's l2: 0.000904752\n",
      "[64]\tvalid_0's l1: 0.0130072\tvalid_0's l2: 0.000905633\n",
      "[65]\tvalid_0's l1: 0.0130037\tvalid_0's l2: 0.000905685\n",
      "[66]\tvalid_0's l1: 0.0129956\tvalid_0's l2: 0.000905947\n",
      "[67]\tvalid_0's l1: 0.0129968\tvalid_0's l2: 0.000905938\n",
      "[68]\tvalid_0's l1: 0.0129628\tvalid_0's l2: 0.000904605\n",
      "[69]\tvalid_0's l1: 0.0129656\tvalid_0's l2: 0.000904434\n",
      "[70]\tvalid_0's l1: 0.0129549\tvalid_0's l2: 0.000904198\n",
      "[71]\tvalid_0's l1: 0.0129567\tvalid_0's l2: 0.000904222\n",
      "[72]\tvalid_0's l1: 0.0129405\tvalid_0's l2: 0.000903575\n",
      "[73]\tvalid_0's l1: 0.0129289\tvalid_0's l2: 0.000903954\n",
      "[74]\tvalid_0's l1: 0.0129119\tvalid_0's l2: 0.000904087\n",
      "[75]\tvalid_0's l1: 0.0129123\tvalid_0's l2: 0.000903844\n",
      "[76]\tvalid_0's l1: 0.012907\tvalid_0's l2: 0.000903497\n",
      "[77]\tvalid_0's l1: 0.0128909\tvalid_0's l2: 0.000903399\n",
      "[78]\tvalid_0's l1: 0.012868\tvalid_0's l2: 0.000902509\n",
      "[79]\tvalid_0's l1: 0.0128699\tvalid_0's l2: 0.000902774\n",
      "[80]\tvalid_0's l1: 0.0128651\tvalid_0's l2: 0.000902657\n",
      "[81]\tvalid_0's l1: 0.0128622\tvalid_0's l2: 0.000902763\n",
      "[82]\tvalid_0's l1: 0.012856\tvalid_0's l2: 0.000902321\n",
      "[83]\tvalid_0's l1: 0.0128381\tvalid_0's l2: 0.000901578\n",
      "[84]\tvalid_0's l1: 0.0128241\tvalid_0's l2: 0.000901557\n",
      "[85]\tvalid_0's l1: 0.0128176\tvalid_0's l2: 0.000901203\n",
      "[86]\tvalid_0's l1: 0.0128161\tvalid_0's l2: 0.000901206\n",
      "[87]\tvalid_0's l1: 0.0127974\tvalid_0's l2: 0.000899973\n",
      "[88]\tvalid_0's l1: 0.0127988\tvalid_0's l2: 0.000900232\n",
      "[89]\tvalid_0's l1: 0.0127921\tvalid_0's l2: 0.000899919\n",
      "[90]\tvalid_0's l1: 0.0127891\tvalid_0's l2: 0.00089914\n",
      "[91]\tvalid_0's l1: 0.0127827\tvalid_0's l2: 0.000898837\n",
      "[92]\tvalid_0's l1: 0.0127803\tvalid_0's l2: 0.000899079\n",
      "[93]\tvalid_0's l1: 0.0127909\tvalid_0's l2: 0.000901361\n",
      "[94]\tvalid_0's l1: 0.0127741\tvalid_0's l2: 0.000900741\n",
      "[95]\tvalid_0's l1: 0.0127673\tvalid_0's l2: 0.000900265\n",
      "[96]\tvalid_0's l1: 0.0127701\tvalid_0's l2: 0.000900756\n",
      "[97]\tvalid_0's l1: 0.012772\tvalid_0's l2: 0.000900719\n",
      "[98]\tvalid_0's l1: 0.0127768\tvalid_0's l2: 0.000900851\n",
      "[99]\tvalid_0's l1: 0.0127762\tvalid_0's l2: 0.00090123\n",
      "[100]\tvalid_0's l1: 0.0127737\tvalid_0's l2: 0.000900936\n",
      "Did not meet early stopping. Best iteration is:\n",
      "[95]\tvalid_0's l1: 0.0127673\tvalid_0's l2: 0.000900265\n",
      "834.6336754931945 355.147909103554\n"
     ]
    }
   ],
   "source": [
    "train_and_scale(x_med_train, x_med_test, y_med_train, y_med_test,'medication')"
   ]
  }
 ],
 "metadata": {
  "kernelspec": {
   "display_name": "Python 3",
   "language": "python",
   "name": "python3"
  },
  "language_info": {
   "codemirror_mode": {
    "name": "ipython",
    "version": 3
   },
   "file_extension": ".py",
   "mimetype": "text/x-python",
   "name": "python",
   "nbconvert_exporter": "python",
   "pygments_lexer": "ipython3",
   "version": "3.7.12"
  },
  "papermill": {
   "default_parameters": {},
   "duration": 154.356421,
   "end_time": "2022-10-28T13:29:06.119988",
   "environment_variables": {},
   "exception": null,
   "input_path": "__notebook__.ipynb",
   "output_path": "__notebook__.ipynb",
   "parameters": {},
   "start_time": "2022-10-28T13:26:31.763567",
   "version": "2.3.4"
  }
 },
 "nbformat": 4,
 "nbformat_minor": 5
}
