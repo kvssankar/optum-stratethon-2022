{
 "cells": [
  {
   "cell_type": "code",
   "execution_count": 1,
   "id": "8e4b87ee",
   "metadata": {
    "_cell_guid": "b1076dfc-b9ad-4769-8c92-a6c4dae69d19",
    "_uuid": "8f2839f25d086af736a60e9eeb907d3b93b6e0e5",
    "execution": {
     "iopub.execute_input": "2022-10-28T13:57:17.232232Z",
     "iopub.status.busy": "2022-10-28T13:57:17.231788Z",
     "iopub.status.idle": "2022-10-28T13:57:19.008868Z",
     "shell.execute_reply": "2022-10-28T13:57:19.007808Z"
    },
    "papermill": {
     "duration": 1.785173,
     "end_time": "2022-10-28T13:57:19.011950",
     "exception": false,
     "start_time": "2022-10-28T13:57:17.226777",
     "status": "completed"
    },
    "tags": []
   },
   "outputs": [
    {
     "data": {
      "text/html": [
       "<style type='text/css'>\n",
       ".datatable table.frame { margin-bottom: 0; }\n",
       ".datatable table.frame thead { border-bottom: none; }\n",
       ".datatable table.frame tr.coltypes td {  color: #FFFFFF;  line-height: 6px;  padding: 0 0.5em;}\n",
       ".datatable .bool    { background: #DDDD99; }\n",
       ".datatable .object  { background: #565656; }\n",
       ".datatable .int     { background: #5D9E5D; }\n",
       ".datatable .float   { background: #4040CC; }\n",
       ".datatable .str     { background: #CC4040; }\n",
       ".datatable .time    { background: #40CC40; }\n",
       ".datatable .row_index {  background: var(--jp-border-color3);  border-right: 1px solid var(--jp-border-color0);  color: var(--jp-ui-font-color3);  font-size: 9px;}\n",
       ".datatable .frame tbody td { text-align: left; }\n",
       ".datatable .frame tr.coltypes .row_index {  background: var(--jp-border-color0);}\n",
       ".datatable th:nth-child(2) { padding-left: 12px; }\n",
       ".datatable .hellipsis {  color: var(--jp-cell-editor-border-color);}\n",
       ".datatable .vellipsis {  background: var(--jp-layout-color0);  color: var(--jp-cell-editor-border-color);}\n",
       ".datatable .na {  color: var(--jp-cell-editor-border-color);  font-size: 80%;}\n",
       ".datatable .sp {  opacity: 0.25;}\n",
       ".datatable .footer { font-size: 9px; }\n",
       ".datatable .frame_dimensions {  background: var(--jp-border-color3);  border-top: 1px solid var(--jp-border-color0);  color: var(--jp-ui-font-color3);  display: inline-block;  opacity: 0.6;  padding: 1px 10px 1px 5px;}\n",
       "</style>\n"
      ],
      "text/plain": [
       "<IPython.core.display.HTML object>"
      ]
     },
     "metadata": {},
     "output_type": "display_data"
    }
   ],
   "source": [
    "import pandas as pd\n",
    "import numpy as np\n",
    "from sklearn.preprocessing import MinMaxScaler\n",
    "import lightgbm as lgb\n",
    "import pickle\n",
    "import math\n",
    "\n",
    "\n",
    "from sklearn.preprocessing import MinMaxScaler\n",
    "from sklearn.model_selection import train_test_split\n",
    "from sklearn.metrics import accuracy_score,confusion_matrix, mean_absolute_error,mean_squared_error"
   ]
  },
  {
   "cell_type": "code",
   "execution_count": 2,
   "id": "1dfe6c33",
   "metadata": {
    "execution": {
     "iopub.execute_input": "2022-10-28T13:57:19.021068Z",
     "iopub.status.busy": "2022-10-28T13:57:19.020720Z",
     "iopub.status.idle": "2022-10-28T13:57:46.995827Z",
     "shell.execute_reply": "2022-10-28T13:57:46.993903Z"
    },
    "papermill": {
     "duration": 27.98224,
     "end_time": "2022-10-28T13:57:46.998475",
     "exception": false,
     "start_time": "2022-10-28T13:57:19.016235",
     "status": "completed"
    },
    "tags": []
   },
   "outputs": [],
   "source": [
    "encounters = pd.read_csv(\"../input/syntheacovid100k/100k_synthea_covid19_csv/encounters.csv\")\n",
    "\n",
    "patients = pd.read_csv(\"../input/syntheacovid100k/100k_synthea_covid19_csv/patients.csv\")\n",
    "patients = patients[['Id','GENDER','MARITAL','ETHNICITY','STATE','CITY']]\n",
    "patients['MARITAL'] = patients['MARITAL'].fillna('Not Applicable')\n",
    "\n",
    "\n",
    "conditions = pd.read_csv(\"../input/syntheacovid100k/100k_synthea_covid19_csv/conditions.csv\")\n",
    "conditions = conditions[['ENCOUNTER', 'PATIENT','CODE']]"
   ]
  },
  {
   "cell_type": "code",
   "execution_count": 3,
   "id": "1cebe474",
   "metadata": {
    "execution": {
     "iopub.execute_input": "2022-10-28T13:57:47.006249Z",
     "iopub.status.busy": "2022-10-28T13:57:47.005881Z",
     "iopub.status.idle": "2022-10-28T13:58:00.629734Z",
     "shell.execute_reply": "2022-10-28T13:58:00.628773Z"
    },
    "papermill": {
     "duration": 13.63034,
     "end_time": "2022-10-28T13:58:00.632117",
     "exception": false,
     "start_time": "2022-10-28T13:57:47.001777",
     "status": "completed"
    },
    "tags": []
   },
   "outputs": [],
   "source": [
    "def process_condition_categorical(conditions):\n",
    "    conditions['CODE'] = conditions['CODE'].astype(str)\n",
    "    conditions_group = conditions.groupby('ENCOUNTER').agg({'CODE' : ','.join, 'PATIENT' : ','.join}).reset_index()\n",
    "    conditions_group['CODE'] = conditions_group['CODE'].apply(lambda x : x.split(','))\n",
    "    conditions_group['PATIENT'] = conditions_group['PATIENT'].apply(lambda x : x.split(',')[0])\n",
    "    \n",
    "    for i in range(0,15):\n",
    "        conditions_group[f'COND_CODE{i}'] = -1\n",
    "        conditions_group[f'COND_CODE{i}'] = conditions_group['CODE'].apply(lambda x  : -1 if len(x) < i+1 else int(x[i]))    \n",
    "    conditions_group.drop(columns = ['CODE'], inplace = True)\n",
    "    return conditions_group\n",
    "condition_group = process_condition_categorical(conditions)"
   ]
  },
  {
   "cell_type": "code",
   "execution_count": 4,
   "id": "5f54c476",
   "metadata": {
    "execution": {
     "iopub.execute_input": "2022-10-28T13:58:00.640117Z",
     "iopub.status.busy": "2022-10-28T13:58:00.639655Z",
     "iopub.status.idle": "2022-10-28T13:58:06.581486Z",
     "shell.execute_reply": "2022-10-28T13:58:06.580274Z"
    },
    "papermill": {
     "duration": 5.948968,
     "end_time": "2022-10-28T13:58:06.584340",
     "exception": false,
     "start_time": "2022-10-28T13:58:00.635372",
     "status": "completed"
    },
    "tags": []
   },
   "outputs": [],
   "source": [
    "encounters = encounters.merge(patients, left_on = 'PATIENT',right_on = 'Id')\n",
    "encounters = encounters.merge(condition_group, left_on = 'Id_x', right_on = 'ENCOUNTER')"
   ]
  },
  {
   "cell_type": "code",
   "execution_count": 5,
   "id": "64530276",
   "metadata": {
    "execution": {
     "iopub.execute_input": "2022-10-28T13:58:06.594237Z",
     "iopub.status.busy": "2022-10-28T13:58:06.593853Z",
     "iopub.status.idle": "2022-10-28T13:58:07.088767Z",
     "shell.execute_reply": "2022-10-28T13:58:07.086910Z"
    },
    "papermill": {
     "duration": 0.503242,
     "end_time": "2022-10-28T13:58:07.091854",
     "exception": false,
     "start_time": "2022-10-28T13:58:06.588612",
     "status": "completed"
    },
    "tags": []
   },
   "outputs": [],
   "source": [
    "encounters = encounters[['ENCOUNTERCLASS', 'CODE', 'DESCRIPTION', 'BASE_ENCOUNTER_COST', 'REASONCODE', \n",
    "     'GENDER', 'MARITAL', 'ETHNICITY', 'STATE', 'CITY', 'ENCOUNTER',\n",
    "       'PATIENT_y', 'COND_CODE0', 'COND_CODE1', 'COND_CODE2', 'COND_CODE3',\n",
    "       'COND_CODE4', 'COND_CODE5', 'COND_CODE6', 'COND_CODE7', 'COND_CODE8',\n",
    "       'COND_CODE9', 'COND_CODE10', 'COND_CODE11', 'COND_CODE12',\n",
    "       'COND_CODE13', 'COND_CODE14']]"
   ]
  },
  {
   "cell_type": "code",
   "execution_count": 6,
   "id": "ba12d9a2",
   "metadata": {
    "execution": {
     "iopub.execute_input": "2022-10-28T13:58:07.100754Z",
     "iopub.status.busy": "2022-10-28T13:58:07.100360Z",
     "iopub.status.idle": "2022-10-28T13:58:07.183789Z",
     "shell.execute_reply": "2022-10-28T13:58:07.182760Z"
    },
    "papermill": {
     "duration": 0.090566,
     "end_time": "2022-10-28T13:58:07.186373",
     "exception": false,
     "start_time": "2022-10-28T13:58:07.095807",
     "status": "completed"
    },
    "tags": []
   },
   "outputs": [],
   "source": [
    "X = encounters[['ENCOUNTERCLASS', 'CODE', 'DESCRIPTION', 'REASONCODE', \n",
    "     'GENDER', 'MARITAL', 'ETHNICITY', 'STATE', 'CITY', 'ENCOUNTER',\n",
    "       'PATIENT_y', 'COND_CODE0', 'COND_CODE1', 'COND_CODE2', 'COND_CODE3',\n",
    "       'COND_CODE4', 'COND_CODE5', 'COND_CODE6', 'COND_CODE7', 'COND_CODE8',\n",
    "       'COND_CODE9', 'COND_CODE10', 'COND_CODE11', 'COND_CODE12',\n",
    "       'COND_CODE13', 'COND_CODE14']]\n",
    "y = encounters['BASE_ENCOUNTER_COST']\n",
    "y = y.map({129.16  :1, 77.49 : 0})"
   ]
  },
  {
   "cell_type": "code",
   "execution_count": 7,
   "id": "3ea3a725",
   "metadata": {
    "execution": {
     "iopub.execute_input": "2022-10-28T13:58:07.194732Z",
     "iopub.status.busy": "2022-10-28T13:58:07.194450Z",
     "iopub.status.idle": "2022-10-28T13:58:07.697486Z",
     "shell.execute_reply": "2022-10-28T13:58:07.696215Z"
    },
    "papermill": {
     "duration": 0.510495,
     "end_time": "2022-10-28T13:58:07.700159",
     "exception": false,
     "start_time": "2022-10-28T13:58:07.189664",
     "status": "completed"
    },
    "tags": []
   },
   "outputs": [],
   "source": [
    "X_train, X_test,y_train, y_test = train_test_split(X, y , test_size = 0.2, shuffle = True, random_state = True)\n",
    "int_cols = X_train.dtypes[X_train.dtypes != object].keys()\n",
    "cat_cols = X_train.dtypes[X_train.dtypes == object].keys()"
   ]
  },
  {
   "cell_type": "code",
   "execution_count": 8,
   "id": "9aaf3e81",
   "metadata": {
    "execution": {
     "iopub.execute_input": "2022-10-28T13:58:07.707991Z",
     "iopub.status.busy": "2022-10-28T13:58:07.707650Z",
     "iopub.status.idle": "2022-10-28T13:58:13.600280Z",
     "shell.execute_reply": "2022-10-28T13:58:13.599097Z"
    },
    "papermill": {
     "duration": 5.898949,
     "end_time": "2022-10-28T13:58:13.602403",
     "exception": false,
     "start_time": "2022-10-28T13:58:07.703454",
     "status": "completed"
    },
    "tags": []
   },
   "outputs": [
    {
     "data": {
      "text/plain": [
       "LGBMClassifier()"
      ]
     },
     "execution_count": 8,
     "metadata": {},
     "output_type": "execute_result"
    }
   ],
   "source": [
    "scaler = MinMaxScaler()\n",
    "scaler.fit(X_train[int_cols])\n",
    "X_train[int_cols] = scaler.transform(X_train[int_cols])\n",
    "X_test[int_cols] = scaler.transform(X_test[int_cols])\n",
    "\n",
    "X_train[cat_cols] = X_train[cat_cols].apply(lambda x : x.astype('category'))\n",
    "\n",
    "clf = lgb.LGBMClassifier()\n",
    "clf.fit(X_train, y_train)"
   ]
  },
  {
   "cell_type": "code",
   "execution_count": 9,
   "id": "cbffc807",
   "metadata": {
    "execution": {
     "iopub.execute_input": "2022-10-28T13:58:13.610858Z",
     "iopub.status.busy": "2022-10-28T13:58:13.610535Z",
     "iopub.status.idle": "2022-10-28T13:58:14.597400Z",
     "shell.execute_reply": "2022-10-28T13:58:14.596111Z"
    },
    "papermill": {
     "duration": 0.993856,
     "end_time": "2022-10-28T13:58:14.599780",
     "exception": false,
     "start_time": "2022-10-28T13:58:13.605924",
     "status": "completed"
    },
    "tags": []
   },
   "outputs": [
    {
     "data": {
      "text/plain": [
       "(1.0,\n",
       " array([[  4583,      0],\n",
       "        [     0, 104956]]))"
      ]
     },
     "execution_count": 9,
     "metadata": {},
     "output_type": "execute_result"
    }
   ],
   "source": [
    "X_test[cat_cols] = X_test[cat_cols].apply(lambda x : x.astype('category'))\n",
    "y_pred = clf.predict(X_test)\n",
    "accuracy_score(y_test,y_pred),confusion_matrix(y_test, y_pred)"
   ]
  },
  {
   "cell_type": "code",
   "execution_count": 10,
   "id": "461edf81",
   "metadata": {
    "execution": {
     "iopub.execute_input": "2022-10-28T13:58:14.608751Z",
     "iopub.status.busy": "2022-10-28T13:58:14.607645Z",
     "iopub.status.idle": "2022-10-28T13:58:14.891554Z",
     "shell.execute_reply": "2022-10-28T13:58:14.889961Z"
    },
    "papermill": {
     "duration": 0.291052,
     "end_time": "2022-10-28T13:58:14.894301",
     "exception": false,
     "start_time": "2022-10-28T13:58:14.603249",
     "status": "completed"
    },
    "tags": []
   },
   "outputs": [],
   "source": [
    "with open('encounter_data_scaler.pkl', 'wb') as fid:\n",
    "    pickle.dump(scaler, fid) \n",
    "\n",
    "with open('encounter_model.pkl', 'wb') as fid:\n",
    "    pickle.dump(clf, fid)"
   ]
  }
 ],
 "metadata": {
  "kernelspec": {
   "display_name": "Python 3",
   "language": "python",
   "name": "python3"
  },
  "language_info": {
   "codemirror_mode": {
    "name": "ipython",
    "version": 3
   },
   "file_extension": ".py",
   "mimetype": "text/x-python",
   "name": "python",
   "nbconvert_exporter": "python",
   "pygments_lexer": "ipython3",
   "version": "3.7.12"
  },
  "papermill": {
   "default_parameters": {},
   "duration": 65.852985,
   "end_time": "2022-10-28T13:58:15.820625",
   "environment_variables": {},
   "exception": null,
   "input_path": "__notebook__.ipynb",
   "output_path": "__notebook__.ipynb",
   "parameters": {},
   "start_time": "2022-10-28T13:57:09.967640",
   "version": "2.3.4"
  }
 },
 "nbformat": 4,
 "nbformat_minor": 5
}
