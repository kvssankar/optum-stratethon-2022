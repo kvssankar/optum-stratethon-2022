{
 "cells": [
  {
   "cell_type": "code",
   "execution_count": 1,
   "metadata": {
    "_cell_guid": "b1076dfc-b9ad-4769-8c92-a6c4dae69d19",
    "_uuid": "8f2839f25d086af736a60e9eeb907d3b93b6e0e5",
    "execution": {
     "iopub.execute_input": "2022-10-28T11:20:11.727715Z",
     "iopub.status.busy": "2022-10-28T11:20:11.727387Z",
     "iopub.status.idle": "2022-10-28T11:20:11.766259Z",
     "shell.execute_reply": "2022-10-28T11:20:11.765334Z",
     "shell.execute_reply.started": "2022-10-28T11:20:11.727662Z"
    }
   },
   "outputs": [
    {
     "name": "stderr",
     "output_type": "stream",
     "text": [
      "Using TensorFlow backend.\n"
     ]
    },
    {
     "name": "stdout",
     "output_type": "stream",
     "text": [
      "['ptbdb_abnormal.csv', 'ptbdb_normal.csv', 'mitbih_test.csv', 'mitbih_train.csv']\n"
     ]
    }
   ],
   "source": [
    "\n",
    "import math\n",
    "import random\n",
    "import pickle\n",
    "import itertools\n",
    "\n",
    "import numpy as np # linear algebra\n",
    "import pandas as pd # data processing, CSV file I/O (e.g. pd.read_csv)\n",
    "\n",
    "from sklearn.metrics import accuracy_score, classification_report, confusion_matrix, label_ranking_average_precision_score, label_ranking_loss, coverage_error \n",
    "\n",
    "from sklearn.utils import shuffle\n",
    "\n",
    "from scipy.signal import resample\n",
    "\n",
    "import matplotlib.pyplot as plt\n",
    "\n",
    "np.random.seed(42)\n",
    "\n",
    "import pickle\n",
    "from sklearn.preprocessing import OneHotEncoder\n",
    "\n",
    "from keras.models import Model\n",
    "from keras.layers import Input, Dense, Conv1D, MaxPooling1D, Softmax, Add, Flatten, Activation# , Dropout\n",
    "from keras import backend as K\n",
    "from keras.optimizers import Adam\n",
    "from keras.callbacks import LearningRateScheduler, ModelCheckpoint\n",
    "import tensorflow as tf\n",
    "# Input data files are available in the \"../input/\" directory.\n",
    "# For example, running this (by clicking run or pressing Shift+Enter) will list the files in the input directory\n",
    "\n",
    "import os\n",
    "print(os.listdir(\"../input\"))\n",
    "\n",
    "# Any results you write to the current directory are saved as output."
   ]
  },
  {
   "cell_type": "code",
   "execution_count": 2,
   "metadata": {
    "_cell_guid": "79c7e3d0-c299-4dcb-8224-4455121ee9b0",
    "_uuid": "d629ff2d2480ee46fbb7e2d37f6b5fab8052498a",
    "execution": {
     "iopub.execute_input": "2022-10-28T11:14:35.161654Z",
     "iopub.status.busy": "2022-10-28T11:14:35.161006Z",
     "iopub.status.idle": "2022-10-28T11:14:49.147687Z",
     "shell.execute_reply": "2022-10-28T11:14:49.146528Z",
     "shell.execute_reply.started": "2022-10-28T11:14:35.161594Z"
    }
   },
   "outputs": [],
   "source": [
    "df = pd.read_csv(\"../input/mitbih_train.csv\", header=None)\n",
    "df2 = pd.read_csv(\"../input/mitbih_test.csv\", header=None)\n",
    "df = pd.concat([df, df2], axis=0)"
   ]
  },
  {
   "cell_type": "code",
   "execution_count": 3,
   "metadata": {
    "_uuid": "494fc8a26ba40beb73fc1a4f7b219b213fb7705e",
    "execution": {
     "iopub.execute_input": "2022-10-28T11:14:49.149159Z",
     "iopub.status.busy": "2022-10-28T11:14:49.148843Z",
     "iopub.status.idle": "2022-10-28T11:14:49.316335Z",
     "shell.execute_reply": "2022-10-28T11:14:49.315278Z",
     "shell.execute_reply.started": "2022-10-28T11:14:49.149110Z"
    }
   },
   "outputs": [
    {
     "data": {
      "text/html": [
       "<div>\n",
       "<style scoped>\n",
       "    .dataframe tbody tr th:only-of-type {\n",
       "        vertical-align: middle;\n",
       "    }\n",
       "\n",
       "    .dataframe tbody tr th {\n",
       "        vertical-align: top;\n",
       "    }\n",
       "\n",
       "    .dataframe thead th {\n",
       "        text-align: right;\n",
       "    }\n",
       "</style>\n",
       "<table border=\"1\" class=\"dataframe\">\n",
       "  <thead>\n",
       "    <tr style=\"text-align: right;\">\n",
       "      <th></th>\n",
       "      <th>0</th>\n",
       "      <th>1</th>\n",
       "      <th>2</th>\n",
       "      <th>3</th>\n",
       "      <th>4</th>\n",
       "      <th>5</th>\n",
       "      <th>6</th>\n",
       "      <th>7</th>\n",
       "      <th>8</th>\n",
       "      <th>9</th>\n",
       "      <th>10</th>\n",
       "      <th>11</th>\n",
       "      <th>12</th>\n",
       "      <th>13</th>\n",
       "      <th>14</th>\n",
       "      <th>15</th>\n",
       "      <th>16</th>\n",
       "      <th>17</th>\n",
       "      <th>18</th>\n",
       "      <th>19</th>\n",
       "      <th>20</th>\n",
       "      <th>21</th>\n",
       "      <th>22</th>\n",
       "      <th>23</th>\n",
       "      <th>24</th>\n",
       "      <th>25</th>\n",
       "      <th>26</th>\n",
       "      <th>27</th>\n",
       "      <th>28</th>\n",
       "      <th>29</th>\n",
       "      <th>30</th>\n",
       "      <th>31</th>\n",
       "      <th>32</th>\n",
       "      <th>33</th>\n",
       "      <th>34</th>\n",
       "      <th>35</th>\n",
       "      <th>36</th>\n",
       "      <th>37</th>\n",
       "      <th>38</th>\n",
       "      <th>39</th>\n",
       "      <th>...</th>\n",
       "      <th>148</th>\n",
       "      <th>149</th>\n",
       "      <th>150</th>\n",
       "      <th>151</th>\n",
       "      <th>152</th>\n",
       "      <th>153</th>\n",
       "      <th>154</th>\n",
       "      <th>155</th>\n",
       "      <th>156</th>\n",
       "      <th>157</th>\n",
       "      <th>158</th>\n",
       "      <th>159</th>\n",
       "      <th>160</th>\n",
       "      <th>161</th>\n",
       "      <th>162</th>\n",
       "      <th>163</th>\n",
       "      <th>164</th>\n",
       "      <th>165</th>\n",
       "      <th>166</th>\n",
       "      <th>167</th>\n",
       "      <th>168</th>\n",
       "      <th>169</th>\n",
       "      <th>170</th>\n",
       "      <th>171</th>\n",
       "      <th>172</th>\n",
       "      <th>173</th>\n",
       "      <th>174</th>\n",
       "      <th>175</th>\n",
       "      <th>176</th>\n",
       "      <th>177</th>\n",
       "      <th>178</th>\n",
       "      <th>179</th>\n",
       "      <th>180</th>\n",
       "      <th>181</th>\n",
       "      <th>182</th>\n",
       "      <th>183</th>\n",
       "      <th>184</th>\n",
       "      <th>185</th>\n",
       "      <th>186</th>\n",
       "      <th>187</th>\n",
       "    </tr>\n",
       "  </thead>\n",
       "  <tbody>\n",
       "    <tr>\n",
       "      <th>0</th>\n",
       "      <td>0.977941</td>\n",
       "      <td>0.926471</td>\n",
       "      <td>0.681373</td>\n",
       "      <td>0.245098</td>\n",
       "      <td>0.154412</td>\n",
       "      <td>0.191176</td>\n",
       "      <td>0.151961</td>\n",
       "      <td>0.085784</td>\n",
       "      <td>0.058824</td>\n",
       "      <td>0.049020</td>\n",
       "      <td>0.044118</td>\n",
       "      <td>0.061275</td>\n",
       "      <td>0.066176</td>\n",
       "      <td>0.061275</td>\n",
       "      <td>0.049020</td>\n",
       "      <td>0.073529</td>\n",
       "      <td>0.061275</td>\n",
       "      <td>0.061275</td>\n",
       "      <td>0.066176</td>\n",
       "      <td>0.068627</td>\n",
       "      <td>0.095588</td>\n",
       "      <td>0.075980</td>\n",
       "      <td>0.093137</td>\n",
       "      <td>0.105392</td>\n",
       "      <td>0.115196</td>\n",
       "      <td>0.102941</td>\n",
       "      <td>0.117647</td>\n",
       "      <td>0.125000</td>\n",
       "      <td>0.142157</td>\n",
       "      <td>0.127451</td>\n",
       "      <td>0.151961</td>\n",
       "      <td>0.144608</td>\n",
       "      <td>0.164216</td>\n",
       "      <td>0.144608</td>\n",
       "      <td>0.159314</td>\n",
       "      <td>0.151961</td>\n",
       "      <td>0.154412</td>\n",
       "      <td>0.142157</td>\n",
       "      <td>0.151961</td>\n",
       "      <td>0.151961</td>\n",
       "      <td>...</td>\n",
       "      <td>0.0</td>\n",
       "      <td>0.0</td>\n",
       "      <td>0.0</td>\n",
       "      <td>0.0</td>\n",
       "      <td>0.0</td>\n",
       "      <td>0.0</td>\n",
       "      <td>0.0</td>\n",
       "      <td>0.0</td>\n",
       "      <td>0.0</td>\n",
       "      <td>0.0</td>\n",
       "      <td>0.0</td>\n",
       "      <td>0.0</td>\n",
       "      <td>0.0</td>\n",
       "      <td>0.0</td>\n",
       "      <td>0.0</td>\n",
       "      <td>0.0</td>\n",
       "      <td>0.0</td>\n",
       "      <td>0.0</td>\n",
       "      <td>0.0</td>\n",
       "      <td>0.0</td>\n",
       "      <td>0.0</td>\n",
       "      <td>0.0</td>\n",
       "      <td>0.0</td>\n",
       "      <td>0.0</td>\n",
       "      <td>0.0</td>\n",
       "      <td>0.0</td>\n",
       "      <td>0.0</td>\n",
       "      <td>0.0</td>\n",
       "      <td>0.0</td>\n",
       "      <td>0.0</td>\n",
       "      <td>0.0</td>\n",
       "      <td>0.0</td>\n",
       "      <td>0.0</td>\n",
       "      <td>0.0</td>\n",
       "      <td>0.0</td>\n",
       "      <td>0.0</td>\n",
       "      <td>0.0</td>\n",
       "      <td>0.0</td>\n",
       "      <td>0.0</td>\n",
       "      <td>0.0</td>\n",
       "    </tr>\n",
       "    <tr>\n",
       "      <th>1</th>\n",
       "      <td>0.960114</td>\n",
       "      <td>0.863248</td>\n",
       "      <td>0.461538</td>\n",
       "      <td>0.196581</td>\n",
       "      <td>0.094017</td>\n",
       "      <td>0.125356</td>\n",
       "      <td>0.099715</td>\n",
       "      <td>0.088319</td>\n",
       "      <td>0.074074</td>\n",
       "      <td>0.082621</td>\n",
       "      <td>0.074074</td>\n",
       "      <td>0.062678</td>\n",
       "      <td>0.065527</td>\n",
       "      <td>0.065527</td>\n",
       "      <td>0.062678</td>\n",
       "      <td>0.076923</td>\n",
       "      <td>0.071225</td>\n",
       "      <td>0.082621</td>\n",
       "      <td>0.091168</td>\n",
       "      <td>0.096866</td>\n",
       "      <td>0.082621</td>\n",
       "      <td>0.082621</td>\n",
       "      <td>0.091168</td>\n",
       "      <td>0.105413</td>\n",
       "      <td>0.122507</td>\n",
       "      <td>0.148148</td>\n",
       "      <td>0.182336</td>\n",
       "      <td>0.193732</td>\n",
       "      <td>0.213675</td>\n",
       "      <td>0.207977</td>\n",
       "      <td>0.222222</td>\n",
       "      <td>0.253561</td>\n",
       "      <td>0.270655</td>\n",
       "      <td>0.287749</td>\n",
       "      <td>0.284900</td>\n",
       "      <td>0.293447</td>\n",
       "      <td>0.256410</td>\n",
       "      <td>0.247863</td>\n",
       "      <td>0.188034</td>\n",
       "      <td>0.145299</td>\n",
       "      <td>...</td>\n",
       "      <td>0.0</td>\n",
       "      <td>0.0</td>\n",
       "      <td>0.0</td>\n",
       "      <td>0.0</td>\n",
       "      <td>0.0</td>\n",
       "      <td>0.0</td>\n",
       "      <td>0.0</td>\n",
       "      <td>0.0</td>\n",
       "      <td>0.0</td>\n",
       "      <td>0.0</td>\n",
       "      <td>0.0</td>\n",
       "      <td>0.0</td>\n",
       "      <td>0.0</td>\n",
       "      <td>0.0</td>\n",
       "      <td>0.0</td>\n",
       "      <td>0.0</td>\n",
       "      <td>0.0</td>\n",
       "      <td>0.0</td>\n",
       "      <td>0.0</td>\n",
       "      <td>0.0</td>\n",
       "      <td>0.0</td>\n",
       "      <td>0.0</td>\n",
       "      <td>0.0</td>\n",
       "      <td>0.0</td>\n",
       "      <td>0.0</td>\n",
       "      <td>0.0</td>\n",
       "      <td>0.0</td>\n",
       "      <td>0.0</td>\n",
       "      <td>0.0</td>\n",
       "      <td>0.0</td>\n",
       "      <td>0.0</td>\n",
       "      <td>0.0</td>\n",
       "      <td>0.0</td>\n",
       "      <td>0.0</td>\n",
       "      <td>0.0</td>\n",
       "      <td>0.0</td>\n",
       "      <td>0.0</td>\n",
       "      <td>0.0</td>\n",
       "      <td>0.0</td>\n",
       "      <td>0.0</td>\n",
       "    </tr>\n",
       "    <tr>\n",
       "      <th>2</th>\n",
       "      <td>1.000000</td>\n",
       "      <td>0.659459</td>\n",
       "      <td>0.186486</td>\n",
       "      <td>0.070270</td>\n",
       "      <td>0.070270</td>\n",
       "      <td>0.059459</td>\n",
       "      <td>0.056757</td>\n",
       "      <td>0.043243</td>\n",
       "      <td>0.054054</td>\n",
       "      <td>0.045946</td>\n",
       "      <td>0.056757</td>\n",
       "      <td>0.043243</td>\n",
       "      <td>0.067568</td>\n",
       "      <td>0.062162</td>\n",
       "      <td>0.078378</td>\n",
       "      <td>0.072973</td>\n",
       "      <td>0.086486</td>\n",
       "      <td>0.081081</td>\n",
       "      <td>0.108108</td>\n",
       "      <td>0.110811</td>\n",
       "      <td>0.135135</td>\n",
       "      <td>0.135135</td>\n",
       "      <td>0.170270</td>\n",
       "      <td>0.183784</td>\n",
       "      <td>0.216216</td>\n",
       "      <td>0.237838</td>\n",
       "      <td>0.270270</td>\n",
       "      <td>0.286486</td>\n",
       "      <td>0.316216</td>\n",
       "      <td>0.318919</td>\n",
       "      <td>0.332432</td>\n",
       "      <td>0.297297</td>\n",
       "      <td>0.267568</td>\n",
       "      <td>0.216216</td>\n",
       "      <td>0.189189</td>\n",
       "      <td>0.132432</td>\n",
       "      <td>0.118919</td>\n",
       "      <td>0.064865</td>\n",
       "      <td>0.064865</td>\n",
       "      <td>0.043243</td>\n",
       "      <td>...</td>\n",
       "      <td>0.0</td>\n",
       "      <td>0.0</td>\n",
       "      <td>0.0</td>\n",
       "      <td>0.0</td>\n",
       "      <td>0.0</td>\n",
       "      <td>0.0</td>\n",
       "      <td>0.0</td>\n",
       "      <td>0.0</td>\n",
       "      <td>0.0</td>\n",
       "      <td>0.0</td>\n",
       "      <td>0.0</td>\n",
       "      <td>0.0</td>\n",
       "      <td>0.0</td>\n",
       "      <td>0.0</td>\n",
       "      <td>0.0</td>\n",
       "      <td>0.0</td>\n",
       "      <td>0.0</td>\n",
       "      <td>0.0</td>\n",
       "      <td>0.0</td>\n",
       "      <td>0.0</td>\n",
       "      <td>0.0</td>\n",
       "      <td>0.0</td>\n",
       "      <td>0.0</td>\n",
       "      <td>0.0</td>\n",
       "      <td>0.0</td>\n",
       "      <td>0.0</td>\n",
       "      <td>0.0</td>\n",
       "      <td>0.0</td>\n",
       "      <td>0.0</td>\n",
       "      <td>0.0</td>\n",
       "      <td>0.0</td>\n",
       "      <td>0.0</td>\n",
       "      <td>0.0</td>\n",
       "      <td>0.0</td>\n",
       "      <td>0.0</td>\n",
       "      <td>0.0</td>\n",
       "      <td>0.0</td>\n",
       "      <td>0.0</td>\n",
       "      <td>0.0</td>\n",
       "      <td>0.0</td>\n",
       "    </tr>\n",
       "    <tr>\n",
       "      <th>3</th>\n",
       "      <td>0.925414</td>\n",
       "      <td>0.665746</td>\n",
       "      <td>0.541436</td>\n",
       "      <td>0.276243</td>\n",
       "      <td>0.196133</td>\n",
       "      <td>0.077348</td>\n",
       "      <td>0.071823</td>\n",
       "      <td>0.060773</td>\n",
       "      <td>0.066298</td>\n",
       "      <td>0.058011</td>\n",
       "      <td>0.063536</td>\n",
       "      <td>0.082873</td>\n",
       "      <td>0.085635</td>\n",
       "      <td>0.093923</td>\n",
       "      <td>0.113260</td>\n",
       "      <td>0.124309</td>\n",
       "      <td>0.140884</td>\n",
       "      <td>0.132597</td>\n",
       "      <td>0.140884</td>\n",
       "      <td>0.091160</td>\n",
       "      <td>0.085635</td>\n",
       "      <td>0.074586</td>\n",
       "      <td>0.071823</td>\n",
       "      <td>0.080110</td>\n",
       "      <td>0.096685</td>\n",
       "      <td>0.118785</td>\n",
       "      <td>0.138122</td>\n",
       "      <td>0.140884</td>\n",
       "      <td>0.138122</td>\n",
       "      <td>0.146409</td>\n",
       "      <td>0.110497</td>\n",
       "      <td>0.102210</td>\n",
       "      <td>0.060773</td>\n",
       "      <td>0.027624</td>\n",
       "      <td>0.038674</td>\n",
       "      <td>0.013812</td>\n",
       "      <td>0.011050</td>\n",
       "      <td>0.013812</td>\n",
       "      <td>0.033149</td>\n",
       "      <td>0.005525</td>\n",
       "      <td>...</td>\n",
       "      <td>0.0</td>\n",
       "      <td>0.0</td>\n",
       "      <td>0.0</td>\n",
       "      <td>0.0</td>\n",
       "      <td>0.0</td>\n",
       "      <td>0.0</td>\n",
       "      <td>0.0</td>\n",
       "      <td>0.0</td>\n",
       "      <td>0.0</td>\n",
       "      <td>0.0</td>\n",
       "      <td>0.0</td>\n",
       "      <td>0.0</td>\n",
       "      <td>0.0</td>\n",
       "      <td>0.0</td>\n",
       "      <td>0.0</td>\n",
       "      <td>0.0</td>\n",
       "      <td>0.0</td>\n",
       "      <td>0.0</td>\n",
       "      <td>0.0</td>\n",
       "      <td>0.0</td>\n",
       "      <td>0.0</td>\n",
       "      <td>0.0</td>\n",
       "      <td>0.0</td>\n",
       "      <td>0.0</td>\n",
       "      <td>0.0</td>\n",
       "      <td>0.0</td>\n",
       "      <td>0.0</td>\n",
       "      <td>0.0</td>\n",
       "      <td>0.0</td>\n",
       "      <td>0.0</td>\n",
       "      <td>0.0</td>\n",
       "      <td>0.0</td>\n",
       "      <td>0.0</td>\n",
       "      <td>0.0</td>\n",
       "      <td>0.0</td>\n",
       "      <td>0.0</td>\n",
       "      <td>0.0</td>\n",
       "      <td>0.0</td>\n",
       "      <td>0.0</td>\n",
       "      <td>0.0</td>\n",
       "    </tr>\n",
       "    <tr>\n",
       "      <th>4</th>\n",
       "      <td>0.967136</td>\n",
       "      <td>1.000000</td>\n",
       "      <td>0.830986</td>\n",
       "      <td>0.586854</td>\n",
       "      <td>0.356808</td>\n",
       "      <td>0.248826</td>\n",
       "      <td>0.145540</td>\n",
       "      <td>0.089202</td>\n",
       "      <td>0.117371</td>\n",
       "      <td>0.150235</td>\n",
       "      <td>0.131455</td>\n",
       "      <td>0.122066</td>\n",
       "      <td>0.140845</td>\n",
       "      <td>0.159624</td>\n",
       "      <td>0.150235</td>\n",
       "      <td>0.145540</td>\n",
       "      <td>0.136150</td>\n",
       "      <td>0.169014</td>\n",
       "      <td>0.178404</td>\n",
       "      <td>0.173709</td>\n",
       "      <td>0.183099</td>\n",
       "      <td>0.201878</td>\n",
       "      <td>0.187793</td>\n",
       "      <td>0.164319</td>\n",
       "      <td>0.187793</td>\n",
       "      <td>0.215962</td>\n",
       "      <td>0.215962</td>\n",
       "      <td>0.201878</td>\n",
       "      <td>0.211268</td>\n",
       "      <td>0.230047</td>\n",
       "      <td>0.215962</td>\n",
       "      <td>0.230047</td>\n",
       "      <td>0.239437</td>\n",
       "      <td>0.267606</td>\n",
       "      <td>0.253521</td>\n",
       "      <td>0.230047</td>\n",
       "      <td>0.220657</td>\n",
       "      <td>0.225352</td>\n",
       "      <td>0.211268</td>\n",
       "      <td>0.173709</td>\n",
       "      <td>...</td>\n",
       "      <td>0.0</td>\n",
       "      <td>0.0</td>\n",
       "      <td>0.0</td>\n",
       "      <td>0.0</td>\n",
       "      <td>0.0</td>\n",
       "      <td>0.0</td>\n",
       "      <td>0.0</td>\n",
       "      <td>0.0</td>\n",
       "      <td>0.0</td>\n",
       "      <td>0.0</td>\n",
       "      <td>0.0</td>\n",
       "      <td>0.0</td>\n",
       "      <td>0.0</td>\n",
       "      <td>0.0</td>\n",
       "      <td>0.0</td>\n",
       "      <td>0.0</td>\n",
       "      <td>0.0</td>\n",
       "      <td>0.0</td>\n",
       "      <td>0.0</td>\n",
       "      <td>0.0</td>\n",
       "      <td>0.0</td>\n",
       "      <td>0.0</td>\n",
       "      <td>0.0</td>\n",
       "      <td>0.0</td>\n",
       "      <td>0.0</td>\n",
       "      <td>0.0</td>\n",
       "      <td>0.0</td>\n",
       "      <td>0.0</td>\n",
       "      <td>0.0</td>\n",
       "      <td>0.0</td>\n",
       "      <td>0.0</td>\n",
       "      <td>0.0</td>\n",
       "      <td>0.0</td>\n",
       "      <td>0.0</td>\n",
       "      <td>0.0</td>\n",
       "      <td>0.0</td>\n",
       "      <td>0.0</td>\n",
       "      <td>0.0</td>\n",
       "      <td>0.0</td>\n",
       "      <td>0.0</td>\n",
       "    </tr>\n",
       "  </tbody>\n",
       "</table>\n",
       "</div>"
      ],
      "text/plain": [
       "        0         1         2         3   ...   184  185  186  187\n",
       "0  0.977941  0.926471  0.681373  0.245098 ...   0.0  0.0  0.0  0.0\n",
       "1  0.960114  0.863248  0.461538  0.196581 ...   0.0  0.0  0.0  0.0\n",
       "2  1.000000  0.659459  0.186486  0.070270 ...   0.0  0.0  0.0  0.0\n",
       "3  0.925414  0.665746  0.541436  0.276243 ...   0.0  0.0  0.0  0.0\n",
       "4  0.967136  1.000000  0.830986  0.586854 ...   0.0  0.0  0.0  0.0\n",
       "\n",
       "[5 rows x 188 columns]"
      ]
     },
     "execution_count": 3,
     "metadata": {},
     "output_type": "execute_result"
    }
   ],
   "source": [
    "df.head()"
   ]
  },
  {
   "cell_type": "code",
   "execution_count": 4,
   "metadata": {
    "_uuid": "5281cb19f54f3bd379f875c24ae52b3b15fcafaf"
   },
   "outputs": [
    {
     "name": "stdout",
     "output_type": "stream",
     "text": [
      "<class 'pandas.core.frame.DataFrame'>\n",
      "Int64Index: 109446 entries, 0 to 21891\n",
      "Columns: 188 entries, 0 to 187\n",
      "dtypes: float64(188)\n",
      "memory usage: 157.8 MB\n"
     ]
    }
   ],
   "source": [
    "df.info()"
   ]
  },
  {
   "cell_type": "code",
   "execution_count": 5,
   "metadata": {
    "_uuid": "0fac0fb658ea34b48055838b4ad85078e883360d",
    "collapsed": true,
    "jupyter": {
     "outputs_hidden": true
    }
   },
   "outputs": [
    {
     "data": {
      "text/plain": [
       "0.0    90589\n",
       "4.0     8039\n",
       "2.0     7236\n",
       "1.0     2779\n",
       "3.0      803\n",
       "Name: 187, dtype: int64"
      ]
     },
     "execution_count": 5,
     "metadata": {},
     "output_type": "execute_result"
    }
   ],
   "source": [
    "df[187].value_counts()"
   ]
  },
  {
   "cell_type": "code",
   "execution_count": 6,
   "metadata": {
    "_uuid": "147b7604bd8a389d7f6aa111f38ae308af7c4eb7",
    "execution": {
     "iopub.execute_input": "2022-10-28T11:14:49.317855Z",
     "iopub.status.busy": "2022-10-28T11:14:49.317500Z",
     "iopub.status.idle": "2022-10-28T11:14:49.323807Z",
     "shell.execute_reply": "2022-10-28T11:14:49.322641Z",
     "shell.execute_reply.started": "2022-10-28T11:14:49.317720Z"
    }
   },
   "outputs": [],
   "source": [
    "M = df.values\n",
    "X = M[:, :-1]\n",
    "y = M[:, -1].astype(int)"
   ]
  },
  {
   "cell_type": "code",
   "execution_count": 7,
   "metadata": {
    "_uuid": "504d95532114efa4cc581d80bf02159c3ce519c6",
    "execution": {
     "iopub.execute_input": "2022-10-28T11:14:49.327784Z",
     "iopub.status.busy": "2022-10-28T11:14:49.327290Z",
     "iopub.status.idle": "2022-10-28T11:14:49.341874Z",
     "shell.execute_reply": "2022-10-28T11:14:49.341067Z",
     "shell.execute_reply.started": "2022-10-28T11:14:49.327700Z"
    }
   },
   "outputs": [],
   "source": [
    "del df\n",
    "del df2\n",
    "del M"
   ]
  },
  {
   "cell_type": "markdown",
   "metadata": {
    "_uuid": "425c4b7abe39a14c6f81f8a71094cc1024276935"
   },
   "source": [
    "# Visual Input"
   ]
  },
  {
   "cell_type": "code",
   "execution_count": 8,
   "metadata": {
    "_uuid": "bcd502ecd1eb95bbf8af983396d3d0c3fb50ce4b",
    "execution": {
     "iopub.execute_input": "2022-10-28T11:14:49.343937Z",
     "iopub.status.busy": "2022-10-28T11:14:49.343564Z",
     "iopub.status.idle": "2022-10-28T11:14:49.356875Z",
     "shell.execute_reply": "2022-10-28T11:14:49.355895Z",
     "shell.execute_reply.started": "2022-10-28T11:14:49.343861Z"
    }
   },
   "outputs": [],
   "source": [
    "C0 = np.argwhere(y == 0).flatten()\n",
    "C1 = np.argwhere(y == 1).flatten()\n",
    "C2 = np.argwhere(y == 2).flatten()\n",
    "C3 = np.argwhere(y == 3).flatten()\n",
    "C4 = np.argwhere(y == 4).flatten()"
   ]
  },
  {
   "cell_type": "code",
   "execution_count": 9,
   "metadata": {
    "_uuid": "85209065f110cea77f4d65053d1164e9ee816049",
    "execution": {
     "iopub.execute_input": "2022-10-28T11:15:12.850306Z",
     "iopub.status.busy": "2022-10-28T11:15:12.849666Z",
     "iopub.status.idle": "2022-10-28T11:15:13.482547Z",
     "shell.execute_reply": "2022-10-28T11:15:13.481692Z",
     "shell.execute_reply.started": "2022-10-28T11:15:12.850223Z"
    }
   },
   "outputs": [
    {
     "data": {
      "image/png": "[encoded data removed]",
      "text/plain": [
       "<matplotlib.figure.Figure at 0x7f5449e7d978>"
      ]
     },
     "metadata": {},
     "output_type": "display_data"
    }
   ],
   "source": [
    "x = np.arange(0, 187)*8/1000\n",
    "\n",
    "plt.figure(figsize=(20,12))\n",
    "plt.plot(x, X[C0, :][0], label=\"Cat. N\")\n",
    "plt.plot(x, X[C1, :][0], label=\"Cat. S\")\n",
    "plt.plot(x, X[C2, :][0], label=\"Cat. V\")\n",
    "plt.plot(x, X[C3, :][0], label=\"Cat. F\")\n",
    "plt.plot(x, X[C4, :][0], label=\"Cat. Q\")\n",
    "plt.legend()\n",
    "plt.title(\"1-beat ECG for every category\", fontsize=20)\n",
    "plt.ylabel(\"Amplitude\", fontsize=15)\n",
    "plt.xlabel(\"Time (ms)\", fontsize=15)\n",
    "plt.show()"
   ]
  },
  {
   "cell_type": "markdown",
   "metadata": {
    "_uuid": "c269ab78773e4b5a960a5e55d2b48c53d5f9c446"
   },
   "source": [
    "# Data augmentation\n",
    "\n",
    "To train properly the model, we sould have to augment all data to the same level. Nevertheless, for a first try, we will just augment the smallest class to the same level as class 1. With that we will be able to have a test set of around 5x800 observations."
   ]
  },
  {
   "cell_type": "code",
   "execution_count": 10,
   "metadata": {
    "_uuid": "a332bfa2765ee6f5d49320c9d8f0b9c5795a4843",
    "execution": {
     "iopub.execute_input": "2022-10-28T11:15:24.569678Z",
     "iopub.status.busy": "2022-10-28T11:15:24.569153Z",
     "iopub.status.idle": "2022-10-28T11:15:24.610146Z",
     "shell.execute_reply": "2022-10-28T11:15:24.609016Z",
     "shell.execute_reply.started": "2022-10-28T11:15:24.569621Z"
    }
   },
   "outputs": [],
   "source": [
    "def stretch(x):\n",
    "    l = int(187 * (1 + (random.random()-0.5)/3))\n",
    "    y = resample(x, l)\n",
    "    if l < 187:\n",
    "        y_ = np.zeros(shape=(187, ))\n",
    "        y_[:l] = y\n",
    "    else:\n",
    "        y_ = y[:187]\n",
    "    return y_\n",
    "\n",
    "def amplify(x):\n",
    "    alpha = (random.random()-0.5)\n",
    "    factor = -alpha*x + (1+alpha)\n",
    "    return x*factor\n",
    "\n",
    "def augment(x):\n",
    "    result = np.zeros(shape= (4, 187))\n",
    "    for i in range(3):\n",
    "        if random.random() < 0.33:\n",
    "            new_y = stretch(x)\n",
    "        elif random.random() < 0.66:\n",
    "            new_y = amplify(x)\n",
    "        else:\n",
    "            new_y = stretch(x)\n",
    "            new_y = amplify(new_y)\n",
    "        result[i, :] = new_y\n",
    "    return result"
   ]
  },
  {
   "cell_type": "code",
   "execution_count": 11,
   "metadata": {
    "_uuid": "8673145476e0307f487a502e3590b76f2589acef",
    "execution": {
     "iopub.execute_input": "2022-10-28T11:15:27.433896Z",
     "iopub.status.busy": "2022-10-28T11:15:27.433539Z",
     "iopub.status.idle": "2022-10-28T11:15:27.619798Z",
     "shell.execute_reply": "2022-10-28T11:15:27.618523Z",
     "shell.execute_reply.started": "2022-10-28T11:15:27.433808Z"
    }
   },
   "outputs": [
    {
     "data": {
      "image/png": "[encoded data removed]",
      "text/plain": [
       "<matplotlib.figure.Figure at 0x7f5449dd2cf8>"
      ]
     },
     "metadata": {},
     "output_type": "display_data"
    }
   ],
   "source": [
    "plt.plot(X[0, :])\n",
    "plt.plot(amplify(X[0, :]))\n",
    "plt.plot(stretch(X[0, :]))\n",
    "plt.show()"
   ]
  },
  {
   "cell_type": "code",
   "execution_count": 12,
   "metadata": {
    "_uuid": "43f671858db58465b14b7fd7656ffa8381f7ea86",
    "execution": {
     "iopub.execute_input": "2022-10-28T11:15:29.042065Z",
     "iopub.status.busy": "2022-10-28T11:15:29.041437Z",
     "iopub.status.idle": "2022-10-28T11:15:29.352290Z",
     "shell.execute_reply": "2022-10-28T11:15:29.351258Z",
     "shell.execute_reply.started": "2022-10-28T11:15:29.041995Z"
    }
   },
   "outputs": [],
   "source": [
    "result = np.apply_along_axis(augment, axis=1, arr=X[C3]).reshape(-1, 187)\n",
    "classe = np.ones(shape=(result.shape[0],), dtype=int)*3\n",
    "X = np.vstack([X, result])\n",
    "y = np.hstack([y, classe])"
   ]
  },
  {
   "cell_type": "markdown",
   "metadata": {
    "_uuid": "c42605d020fd51885437f4af3cf10cebbeafc9bb"
   },
   "source": [
    "# Split"
   ]
  },
  {
   "cell_type": "code",
   "execution_count": 13,
   "metadata": {
    "_uuid": "c136b567ed0cf450ed0476464c3b59d1ff1bb032",
    "execution": {
     "iopub.execute_input": "2022-10-28T11:15:29.701984Z",
     "iopub.status.busy": "2022-10-28T11:15:29.701689Z",
     "iopub.status.idle": "2022-10-28T11:15:29.709407Z",
     "shell.execute_reply": "2022-10-28T11:15:29.708385Z",
     "shell.execute_reply.started": "2022-10-28T11:15:29.701945Z"
    }
   },
   "outputs": [],
   "source": [
    "subC0 = np.random.choice(C0, 800)\n",
    "subC1 = np.random.choice(C1, 800)\n",
    "subC2 = np.random.choice(C2, 800)\n",
    "subC3 = np.random.choice(C3, 800)\n",
    "subC4 = np.random.choice(C4, 800)"
   ]
  },
  {
   "cell_type": "code",
   "execution_count": 14,
   "metadata": {
    "_uuid": "52573d0c3a715cd693e682227d01f5a73549e421",
    "execution": {
     "iopub.execute_input": "2022-10-28T11:15:31.361944Z",
     "iopub.status.busy": "2022-10-28T11:15:31.361618Z",
     "iopub.status.idle": "2022-10-28T11:15:31.789867Z",
     "shell.execute_reply": "2022-10-28T11:15:31.788972Z",
     "shell.execute_reply.started": "2022-10-28T11:15:31.361886Z"
    }
   },
   "outputs": [],
   "source": [
    "X_test = np.vstack([X[subC0], X[subC1], X[subC2], X[subC3], X[subC4]])\n",
    "y_test = np.hstack([y[subC0], y[subC1], y[subC2], y[subC3], y[subC4]])\n",
    "\n",
    "X_train = np.delete(X, [subC0, subC1, subC2, subC3, subC4], axis=0)\n",
    "y_train = np.delete(y, [subC0, subC1, subC2, subC3, subC4], axis=0)\n",
    "\n",
    "X_train, y_train = shuffle(X_train, y_train, random_state=0)\n",
    "X_test, y_test = shuffle(X_test, y_test, random_state=0)\n",
    "\n",
    "del X\n",
    "del y"
   ]
  },
  {
   "cell_type": "code",
   "execution_count": 15,
   "metadata": {
    "_uuid": "7ae5108c9741b85f0f599cce51daf99df4733ed1",
    "execution": {
     "iopub.execute_input": "2022-10-28T11:15:33.051454Z",
     "iopub.status.busy": "2022-10-28T11:15:33.051122Z",
     "iopub.status.idle": "2022-10-28T11:15:33.055979Z",
     "shell.execute_reply": "2022-10-28T11:15:33.054924Z",
     "shell.execute_reply.started": "2022-10-28T11:15:33.051393Z"
    }
   },
   "outputs": [],
   "source": [
    "X_train = np.expand_dims(X_train, 2)\n",
    "X_test = np.expand_dims(X_test, 2)"
   ]
  },
  {
   "cell_type": "code",
   "execution_count": 16,
   "metadata": {
    "_uuid": "cbd350e57b2a44b4bf6a79f02c32dabb803e4855",
    "execution": {
     "iopub.execute_input": "2022-10-28T11:15:33.895260Z",
     "iopub.status.busy": "2022-10-28T11:15:33.894580Z",
     "iopub.status.idle": "2022-10-28T11:15:33.904154Z",
     "shell.execute_reply": "2022-10-28T11:15:33.903102Z",
     "shell.execute_reply.started": "2022-10-28T11:15:33.895187Z"
    }
   },
   "outputs": [
    {
     "name": "stdout",
     "output_type": "stream",
     "text": [
      "X_train (109150, 187, 1)\n",
      "y_train (109150,)\n",
      "X_test (4000, 187, 1)\n",
      "y_test (4000,)\n"
     ]
    }
   ],
   "source": [
    "print(\"X_train\", X_train.shape)\n",
    "print(\"y_train\", y_train.shape)\n",
    "print(\"X_test\", X_test.shape)\n",
    "print(\"y_test\", y_test.shape)"
   ]
  },
  {
   "cell_type": "code",
   "execution_count": 17,
   "metadata": {
    "_uuid": "5ddf1e7b397de3c413fc991945d2d7f09df67da1",
    "execution": {
     "iopub.execute_input": "2022-10-28T11:15:35.534071Z",
     "iopub.status.busy": "2022-10-28T11:15:35.533653Z",
     "iopub.status.idle": "2022-10-28T11:15:35.561451Z",
     "shell.execute_reply": "2022-10-28T11:15:35.560481Z",
     "shell.execute_reply.started": "2022-10-28T11:15:35.533993Z"
    }
   },
   "outputs": [
    {
     "name": "stderr",
     "output_type": "stream",
     "text": [
      "/opt/conda/lib/python3.6/site-packages/sklearn/preprocessing/_encoders.py:405: FutureWarning: The handling of integer data will change in version 0.22. Currently, the categories are determined based on the range [0, max(values)], while in the future they will be determined based on the unique values.\n",
      "If you want the future behaviour and silence this warning, you can specify \"categories='auto'\".\n",
      "In case you used a LabelEncoder before this OneHotEncoder to convert the categories to integers, then you can now use the OneHotEncoder directly.\n",
      "  warnings.warn(msg, FutureWarning)\n"
     ]
    }
   ],
   "source": [
    "ohe = OneHotEncoder()\n",
    "y_train = ohe.fit_transform(y_train.reshape(-1,1))\n",
    "y_test = ohe.transform(y_test.reshape(-1,1))"
   ]
  },
  {
   "cell_type": "code",
   "execution_count": 18,
   "metadata": {
    "_uuid": "16c106c2702045790367fc49d7223560fc613d75",
    "execution": {
     "iopub.execute_input": "2022-10-28T11:15:36.959185Z",
     "iopub.status.busy": "2022-10-28T11:15:36.958820Z",
     "iopub.status.idle": "2022-10-28T11:15:36.967145Z",
     "shell.execute_reply": "2022-10-28T11:15:36.966093Z",
     "shell.execute_reply.started": "2022-10-28T11:15:36.959123Z"
    }
   },
   "outputs": [
    {
     "name": "stdout",
     "output_type": "stream",
     "text": [
      "X_train (109150, 187, 1)\n",
      "y_train (109150, 5)\n",
      "X_test (4000, 187, 1)\n",
      "y_test (4000, 5)\n"
     ]
    }
   ],
   "source": [
    "print(\"X_train\", X_train.shape)\n",
    "print(\"y_train\", y_train.shape)\n",
    "print(\"X_test\", X_test.shape)\n",
    "print(\"y_test\", y_test.shape)"
   ]
  },
  {
   "cell_type": "markdown",
   "metadata": {
    "_uuid": "c4de23b85abe34a726eab268171da0e827bafa35"
   },
   "source": [
    "# Model\n",
    "\n",
    "Now let's re-create the model from the ArXiv Document"
   ]
  },
  {
   "cell_type": "code",
   "execution_count": 19,
   "metadata": {
    "_uuid": "fb0dc9775ddfa761c0ad948d59020fcbd2681c57",
    "execution": {
     "iopub.execute_input": "2022-10-28T11:15:42.337348Z",
     "iopub.status.busy": "2022-10-28T11:15:42.336320Z",
     "iopub.status.idle": "2022-10-28T11:15:42.342663Z",
     "shell.execute_reply": "2022-10-28T11:15:42.341528Z",
     "shell.execute_reply.started": "2022-10-28T11:15:42.337257Z"
    }
   },
   "outputs": [],
   "source": [
    "n_obs, feature, depth = X_train.shape\n",
    "batch_size = 500"
   ]
  },
  {
   "cell_type": "code",
   "execution_count": 20,
   "metadata": {
    "_uuid": "e70fab0b07290e042ba9cd7c6cba37462a457b03",
    "execution": {
     "iopub.execute_input": "2022-10-28T11:15:43.746195Z",
     "iopub.status.busy": "2022-10-28T11:15:43.745829Z",
     "iopub.status.idle": "2022-10-28T11:15:44.289872Z",
     "shell.execute_reply": "2022-10-28T11:15:44.288940Z",
     "shell.execute_reply.started": "2022-10-28T11:15:43.746131Z"
    }
   },
   "outputs": [
    {
     "name": "stdout",
     "output_type": "stream",
     "text": [
      "__________________________________________________________________________________________________\n",
      "Layer (type)                    Output Shape         Param #     Connected to                     \n",
      "==================================================================================================\n",
      "input_1 (InputLayer)            (None, 187, 1)       0                                            \n",
      "__________________________________________________________________________________________________\n",
      "conv1d_1 (Conv1D)               (None, 183, 32)      192         input_1[0][0]                    \n",
      "__________________________________________________________________________________________________\n",
      "conv1d_2 (Conv1D)               (None, 183, 32)      5152        conv1d_1[0][0]                   \n",
      "__________________________________________________________________________________________________\n",
      "activation_1 (Activation)       (None, 183, 32)      0           conv1d_2[0][0]                   \n",
      "__________________________________________________________________________________________________\n",
      "conv1d_3 (Conv1D)               (None, 183, 32)      5152        activation_1[0][0]               \n",
      "__________________________________________________________________________________________________\n",
      "add_1 (Add)                     (None, 183, 32)      0           conv1d_3[0][0]                   \n",
      "                                                                 conv1d_1[0][0]                   \n",
      "__________________________________________________________________________________________________\n",
      "activation_4 (Activation)       (None, 183, 32)      0           add_1[0][0]                      \n",
      "__________________________________________________________________________________________________\n",
      "max_pooling1d_2 (MaxPooling1D)  (None, 90, 32)       0           activation_4[0][0]               \n",
      "__________________________________________________________________________________________________\n",
      "conv1d_6 (Conv1D)               (None, 90, 32)       5152        max_pooling1d_2[0][0]            \n",
      "__________________________________________________________________________________________________\n",
      "activation_5 (Activation)       (None, 90, 32)       0           conv1d_6[0][0]                   \n",
      "__________________________________________________________________________________________________\n",
      "conv1d_7 (Conv1D)               (None, 90, 32)       5152        activation_5[0][0]               \n",
      "__________________________________________________________________________________________________\n",
      "add_3 (Add)                     (None, 90, 32)       0           conv1d_7[0][0]                   \n",
      "                                                                 max_pooling1d_2[0][0]            \n",
      "__________________________________________________________________________________________________\n",
      "activation_6 (Activation)       (None, 90, 32)       0           add_3[0][0]                      \n",
      "__________________________________________________________________________________________________\n",
      "max_pooling1d_3 (MaxPooling1D)  (None, 43, 32)       0           activation_6[0][0]               \n",
      "__________________________________________________________________________________________________\n",
      "conv1d_8 (Conv1D)               (None, 43, 32)       5152        max_pooling1d_3[0][0]            \n",
      "__________________________________________________________________________________________________\n",
      "activation_7 (Activation)       (None, 43, 32)       0           conv1d_8[0][0]                   \n",
      "__________________________________________________________________________________________________\n",
      "conv1d_9 (Conv1D)               (None, 43, 32)       5152        activation_7[0][0]               \n",
      "__________________________________________________________________________________________________\n",
      "add_4 (Add)                     (None, 43, 32)       0           conv1d_9[0][0]                   \n",
      "                                                                 max_pooling1d_3[0][0]            \n",
      "__________________________________________________________________________________________________\n",
      "activation_8 (Activation)       (None, 43, 32)       0           add_4[0][0]                      \n",
      "__________________________________________________________________________________________________\n",
      "max_pooling1d_4 (MaxPooling1D)  (None, 20, 32)       0           activation_8[0][0]               \n",
      "__________________________________________________________________________________________________\n",
      "conv1d_10 (Conv1D)              (None, 20, 32)       5152        max_pooling1d_4[0][0]            \n",
      "__________________________________________________________________________________________________\n",
      "activation_9 (Activation)       (None, 20, 32)       0           conv1d_10[0][0]                  \n",
      "__________________________________________________________________________________________________\n",
      "conv1d_11 (Conv1D)              (None, 20, 32)       5152        activation_9[0][0]               \n",
      "__________________________________________________________________________________________________\n",
      "add_5 (Add)                     (None, 20, 32)       0           conv1d_11[0][0]                  \n",
      "                                                                 max_pooling1d_4[0][0]            \n",
      "__________________________________________________________________________________________________\n",
      "activation_10 (Activation)      (None, 20, 32)       0           add_5[0][0]                      \n",
      "__________________________________________________________________________________________________\n",
      "max_pooling1d_5 (MaxPooling1D)  (None, 8, 32)        0           activation_10[0][0]              \n",
      "__________________________________________________________________________________________________\n",
      "flatten_1 (Flatten)             (None, 256)          0           max_pooling1d_5[0][0]            \n",
      "__________________________________________________________________________________________________\n",
      "dense_1 (Dense)                 (None, 32)           8224        flatten_1[0][0]                  \n",
      "__________________________________________________________________________________________________\n",
      "activation_11 (Activation)      (None, 32)           0           dense_1[0][0]                    \n",
      "__________________________________________________________________________________________________\n",
      "dense_2 (Dense)                 (None, 32)           1056        activation_11[0][0]              \n",
      "__________________________________________________________________________________________________\n",
      "dense_3 (Dense)                 (None, 5)            165         dense_2[0][0]                    \n",
      "__________________________________________________________________________________________________\n",
      "softmax_1 (Softmax)             (None, 5)            0           dense_3[0][0]                    \n",
      "==================================================================================================\n",
      "Total params: 50,853\n",
      "Trainable params: 50,853\n",
      "Non-trainable params: 0\n",
      "__________________________________________________________________________________________________\n"
     ]
    }
   ],
   "source": [
    "K.clear_session()\n",
    "\n",
    "inp = Input(shape=(feature, depth))\n",
    "C = Conv1D(filters=32, kernel_size=5, strides=1)(inp)\n",
    "\n",
    "C11 = Conv1D(filters=32, kernel_size=5, strides=1, padding='same')(C)\n",
    "A11 = Activation(\"relu\")(C11)\n",
    "C12 = Conv1D(filters=32, kernel_size=5, strides=1, padding='same')(A11)\n",
    "S11 = Add()([C12, C])\n",
    "A12 = Activation(\"relu\")(S11)\n",
    "M11 = MaxPooling1D(pool_size=5, strides=2)(A12)\n",
    "\n",
    "\n",
    "C21 = Conv1D(filters=32, kernel_size=5, strides=1, padding='same')(M11)\n",
    "A21 = Activation(\"relu\")(C21)\n",
    "C22 = Conv1D(filters=32, kernel_size=5, strides=1, padding='same')(A21)\n",
    "S21 = Add()([C22, M11])\n",
    "A22 = Activation(\"relu\")(S11)\n",
    "M21 = MaxPooling1D(pool_size=5, strides=2)(A22)\n",
    "\n",
    "\n",
    "C31 = Conv1D(filters=32, kernel_size=5, strides=1, padding='same')(M21)\n",
    "A31 = Activation(\"relu\")(C31)\n",
    "C32 = Conv1D(filters=32, kernel_size=5, strides=1, padding='same')(A31)\n",
    "S31 = Add()([C32, M21])\n",
    "A32 = Activation(\"relu\")(S31)\n",
    "M31 = MaxPooling1D(pool_size=5, strides=2)(A32)\n",
    "\n",
    "\n",
    "C41 = Conv1D(filters=32, kernel_size=5, strides=1, padding='same')(M31)\n",
    "A41 = Activation(\"relu\")(C41)\n",
    "C42 = Conv1D(filters=32, kernel_size=5, strides=1, padding='same')(A41)\n",
    "S41 = Add()([C42, M31])\n",
    "A42 = Activation(\"relu\")(S41)\n",
    "M41 = MaxPooling1D(pool_size=5, strides=2)(A42)\n",
    "\n",
    "\n",
    "C51 = Conv1D(filters=32, kernel_size=5, strides=1, padding='same')(M41)\n",
    "A51 = Activation(\"relu\")(C51)\n",
    "C52 = Conv1D(filters=32, kernel_size=5, strides=1, padding='same')(A51)\n",
    "S51 = Add()([C52, M41])\n",
    "A52 = Activation(\"relu\")(S51)\n",
    "M51 = MaxPooling1D(pool_size=5, strides=2)(A52)\n",
    "\n",
    "F1 = Flatten()(M51)\n",
    "\n",
    "D1 = Dense(32)(F1)\n",
    "A6 = Activation(\"relu\")(D1)\n",
    "D2 = Dense(32)(A6)\n",
    "D3 = Dense(5)(D2)\n",
    "A7 = Softmax()(D3)\n",
    "\n",
    "model = Model(inputs=inp, outputs=A7)\n",
    "\n",
    "model.summary()"
   ]
  },
  {
   "cell_type": "code",
   "execution_count": 21,
   "metadata": {
    "_uuid": "fdc0d8aa8475330af8d8e652d0b9ce214da66956",
    "execution": {
     "iopub.execute_input": "2022-10-28T11:15:47.839608Z",
     "iopub.status.busy": "2022-10-28T11:15:47.839240Z",
     "iopub.status.idle": "2022-10-28T11:15:47.847651Z",
     "shell.execute_reply": "2022-10-28T11:15:47.846820Z",
     "shell.execute_reply.started": "2022-10-28T11:15:47.839542Z"
    }
   },
   "outputs": [],
   "source": [
    "def exp_decay(epoch):\n",
    "    initial_lrate = 0.001\n",
    "    k = 0.75\n",
    "    t = n_obs//(10000 * batch_size)  # every epoch we do n_obs/batch_size iteration\n",
    "    lrate = initial_lrate * math.exp(-k*t)\n",
    "    return lrate\n",
    "\n",
    "lrate = LearningRateScheduler(exp_decay)"
   ]
  },
  {
   "cell_type": "code",
   "execution_count": 22,
   "metadata": {
    "_uuid": "abcd2f0e8488c8f3b33cd6ed9ca7fd60fa44404b",
    "execution": {
     "iopub.execute_input": "2022-10-28T11:15:48.943774Z",
     "iopub.status.busy": "2022-10-28T11:15:48.943459Z",
     "iopub.status.idle": "2022-10-28T11:15:48.968147Z",
     "shell.execute_reply": "2022-10-28T11:15:48.967350Z",
     "shell.execute_reply.started": "2022-10-28T11:15:48.943732Z"
    }
   },
   "outputs": [],
   "source": [
    "adam = Adam(lr = 0.001, beta_1 = 0.9, beta_2 = 0.999)"
   ]
  },
  {
   "cell_type": "code",
   "execution_count": 23,
   "metadata": {
    "_uuid": "812e637ae56f6a4be9c8e98d3b501cfb11ef78cb",
    "execution": {
     "iopub.execute_input": "2022-10-28T11:15:50.335911Z",
     "iopub.status.busy": "2022-10-28T11:15:50.335599Z",
     "iopub.status.idle": "2022-10-28T11:15:50.372629Z",
     "shell.execute_reply": "2022-10-28T11:15:50.371783Z",
     "shell.execute_reply.started": "2022-10-28T11:15:50.335859Z"
    }
   },
   "outputs": [],
   "source": [
    "model.compile(loss='categorical_crossentropy', optimizer=adam, metrics=['accuracy'])"
   ]
  },
  {
   "cell_type": "code",
   "execution_count": 24,
   "metadata": {
    "_uuid": "1e6ef643f6a55ab5b3c1b46126832c3ac45a6a2b",
    "execution": {
     "iopub.execute_input": "2022-10-28T11:16:10.686101Z",
     "iopub.status.busy": "2022-10-28T11:16:10.685396Z",
     "iopub.status.idle": "2022-10-28T11:16:16.312559Z",
     "shell.execute_reply": "2022-10-28T11:16:16.259470Z",
     "shell.execute_reply.started": "2022-10-28T11:16:10.686023Z"
    }
   },
   "outputs": [
    {
     "name": "stdout",
     "output_type": "stream",
     "text": [
      "Train on 109150 samples, validate on 4000 samples\n",
      "Epoch 1/75\n",
      " - 109s - loss: 0.3800 - acc: 0.8864 - val_loss: 0.7331 - val_acc: 0.7700\n",
      "Epoch 2/75\n",
      " - 105s - loss: 0.1439 - acc: 0.9609 - val_loss: 0.7271 - val_acc: 0.8065\n",
      "Epoch 3/75\n",
      " - 107s - loss: 0.1052 - acc: 0.9713 - val_loss: 0.4719 - val_acc: 0.8605\n",
      "Epoch 4/75\n",
      " - 114s - loss: 0.0870 - acc: 0.9753 - val_loss: 0.4929 - val_acc: 0.8598\n",
      "Epoch 5/75\n",
      " - 113s - loss: 0.0744 - acc: 0.9792 - val_loss: 0.4070 - val_acc: 0.8752\n",
      "Epoch 6/75\n",
      " - 109s - loss: 0.0681 - acc: 0.9807 - val_loss: 0.4356 - val_acc: 0.8710\n",
      "Epoch 7/75\n",
      " - 111s - loss: 0.0610 - acc: 0.9822 - val_loss: 0.3886 - val_acc: 0.8763\n",
      "Epoch 8/75\n",
      " - 108s - loss: 0.0569 - acc: 0.9831 - val_loss: 0.3584 - val_acc: 0.8943\n",
      "Epoch 9/75\n",
      " - 103s - loss: 0.0525 - acc: 0.9843 - val_loss: 0.3043 - val_acc: 0.9050\n",
      "Epoch 10/75\n",
      " - 111s - loss: 0.0495 - acc: 0.9852 - val_loss: 0.2819 - val_acc: 0.9093\n",
      "Epoch 11/75\n",
      " - 111s - loss: 0.0439 - acc: 0.9866 - val_loss: 0.2746 - val_acc: 0.9238\n",
      "Epoch 12/75\n",
      " - 101s - loss: 0.0458 - acc: 0.9859 - val_loss: 0.2383 - val_acc: 0.9287\n",
      "Epoch 13/75\n",
      " - 100s - loss: 0.0403 - acc: 0.9874 - val_loss: 0.3082 - val_acc: 0.9135\n",
      "Epoch 14/75\n",
      " - 98s - loss: 0.0390 - acc: 0.9877 - val_loss: 0.2093 - val_acc: 0.9337\n",
      "Epoch 15/75\n",
      " - 102s - loss: 0.0362 - acc: 0.9886 - val_loss: 0.2685 - val_acc: 0.9192\n",
      "Epoch 16/75\n",
      " - 103s - loss: 0.0365 - acc: 0.9884 - val_loss: 0.1947 - val_acc: 0.9420\n",
      "Epoch 17/75\n",
      " - 101s - loss: 0.0327 - acc: 0.9896 - val_loss: 0.2247 - val_acc: 0.9307\n",
      "Epoch 18/75\n",
      " - 102s - loss: 0.0322 - acc: 0.9896 - val_loss: 0.2598 - val_acc: 0.9207\n",
      "Epoch 19/75\n",
      " - 100s - loss: 0.0307 - acc: 0.9902 - val_loss: 0.2017 - val_acc: 0.9383\n",
      "Epoch 20/75\n",
      " - 102s - loss: 0.0298 - acc: 0.9903 - val_loss: 0.2991 - val_acc: 0.9170\n",
      "Epoch 21/75\n",
      " - 101s - loss: 0.0273 - acc: 0.9912 - val_loss: 0.1992 - val_acc: 0.9385\n",
      "Epoch 22/75\n",
      " - 102s - loss: 0.0254 - acc: 0.9915 - val_loss: 0.2772 - val_acc: 0.9265\n",
      "Epoch 23/75\n",
      " - 104s - loss: 0.0252 - acc: 0.9916 - val_loss: 0.3174 - val_acc: 0.9205\n",
      "Epoch 24/75\n",
      " - 103s - loss: 0.0236 - acc: 0.9923 - val_loss: 0.2248 - val_acc: 0.9435\n",
      "Epoch 25/75\n",
      " - 105s - loss: 0.0230 - acc: 0.9922 - val_loss: 0.2334 - val_acc: 0.9300\n",
      "Epoch 26/75\n",
      " - 103s - loss: 0.0218 - acc: 0.9924 - val_loss: 0.3013 - val_acc: 0.9090\n",
      "Epoch 27/75\n",
      " - 105s - loss: 0.0215 - acc: 0.9927 - val_loss: 0.2465 - val_acc: 0.9342\n",
      "Epoch 28/75\n",
      " - 102s - loss: 0.0223 - acc: 0.9929 - val_loss: 0.2626 - val_acc: 0.9413\n",
      "Epoch 29/75\n",
      " - 105s - loss: 0.0211 - acc: 0.9924 - val_loss: 0.3198 - val_acc: 0.9248\n",
      "Epoch 30/75\n",
      " - 105s - loss: 0.0189 - acc: 0.9937 - val_loss: 0.2747 - val_acc: 0.9272\n",
      "Epoch 31/75\n",
      " - 105s - loss: 0.0201 - acc: 0.9934 - val_loss: 0.2575 - val_acc: 0.9315\n",
      "Epoch 32/75\n",
      " - 104s - loss: 0.0177 - acc: 0.9938 - val_loss: 0.2692 - val_acc: 0.9392\n",
      "Epoch 33/75\n",
      " - 104s - loss: 0.0180 - acc: 0.9937 - val_loss: 0.2273 - val_acc: 0.9527\n",
      "Epoch 34/75\n",
      " - 104s - loss: 0.0171 - acc: 0.9941 - val_loss: 0.2627 - val_acc: 0.9438\n",
      "Epoch 35/75\n",
      " - 104s - loss: 0.0160 - acc: 0.9943 - val_loss: 0.2240 - val_acc: 0.9433\n",
      "Epoch 36/75\n",
      " - 104s - loss: 0.0173 - acc: 0.9940 - val_loss: 0.2046 - val_acc: 0.9470\n",
      "Epoch 37/75\n",
      " - 102s - loss: 0.0142 - acc: 0.9952 - val_loss: 0.2889 - val_acc: 0.9318\n",
      "Epoch 38/75\n",
      " - 104s - loss: 0.0144 - acc: 0.9948 - val_loss: 0.2420 - val_acc: 0.9462\n",
      "Epoch 39/75\n",
      " - 106s - loss: 0.0161 - acc: 0.9944 - val_loss: 0.2686 - val_acc: 0.9415\n",
      "Epoch 40/75\n",
      " - 108s - loss: 0.0147 - acc: 0.9948 - val_loss: 0.2499 - val_acc: 0.9430\n",
      "Epoch 41/75\n",
      " - 108s - loss: 0.0154 - acc: 0.9947 - val_loss: 0.2936 - val_acc: 0.9325\n",
      "Epoch 42/75\n",
      " - 106s - loss: 0.0140 - acc: 0.9951 - val_loss: 0.1797 - val_acc: 0.9618\n",
      "Epoch 43/75\n",
      " - 108s - loss: 0.0117 - acc: 0.9959 - val_loss: 0.2704 - val_acc: 0.9407\n",
      "Epoch 44/75\n",
      " - 109s - loss: 0.0154 - acc: 0.9948 - val_loss: 0.2585 - val_acc: 0.9490\n",
      "Epoch 45/75\n",
      " - 104s - loss: 0.0132 - acc: 0.9952 - val_loss: 0.2948 - val_acc: 0.9313\n",
      "Epoch 46/75\n",
      " - 112s - loss: 0.0124 - acc: 0.9955 - val_loss: 0.2250 - val_acc: 0.9568\n",
      "Epoch 47/75\n",
      " - 114s - loss: 0.0124 - acc: 0.9957 - val_loss: 0.3054 - val_acc: 0.9363\n",
      "Epoch 48/75\n",
      " - 115s - loss: 0.0118 - acc: 0.9958 - val_loss: 0.3161 - val_acc: 0.9390\n",
      "Epoch 49/75\n",
      " - 115s - loss: 0.0119 - acc: 0.9960 - val_loss: 0.4118 - val_acc: 0.9135\n",
      "Epoch 50/75\n",
      " - 114s - loss: 0.0121 - acc: 0.9957 - val_loss: 0.2895 - val_acc: 0.9280\n",
      "Epoch 51/75\n",
      " - 113s - loss: 0.0126 - acc: 0.9955 - val_loss: 0.2779 - val_acc: 0.9490\n",
      "Epoch 52/75\n",
      " - 114s - loss: 0.0109 - acc: 0.9964 - val_loss: 0.2288 - val_acc: 0.9470\n",
      "Epoch 53/75\n",
      " - 114s - loss: 0.0105 - acc: 0.9964 - val_loss: 0.2776 - val_acc: 0.9482\n",
      "Epoch 54/75\n",
      " - 114s - loss: 0.0134 - acc: 0.9956 - val_loss: 0.2465 - val_acc: 0.9527\n",
      "Epoch 55/75\n",
      " - 115s - loss: 0.0114 - acc: 0.9960 - val_loss: 0.2356 - val_acc: 0.9455\n",
      "Epoch 56/75\n",
      " - 113s - loss: 0.0104 - acc: 0.9963 - val_loss: 0.3668 - val_acc: 0.9297\n",
      "Epoch 57/75\n",
      " - 114s - loss: 0.0094 - acc: 0.9967 - val_loss: 0.2812 - val_acc: 0.9465\n",
      "Epoch 58/75\n",
      " - 115s - loss: 0.0115 - acc: 0.9960 - val_loss: 0.2742 - val_acc: 0.9430\n",
      "Epoch 59/75\n",
      " - 105s - loss: 0.0092 - acc: 0.9966 - val_loss: 0.3071 - val_acc: 0.9415\n",
      "Epoch 60/75\n",
      " - 105s - loss: 0.0104 - acc: 0.9963 - val_loss: 0.2790 - val_acc: 0.9468\n",
      "Epoch 61/75\n",
      " - 104s - loss: 0.0097 - acc: 0.9965 - val_loss: 0.2867 - val_acc: 0.9485\n",
      "Epoch 62/75\n",
      " - 102s - loss: 0.0085 - acc: 0.9970 - val_loss: 0.3021 - val_acc: 0.9465\n",
      "Epoch 63/75\n",
      " - 106s - loss: 0.0113 - acc: 0.9963 - val_loss: 0.3913 - val_acc: 0.9315\n",
      "Epoch 64/75\n",
      " - 111s - loss: 0.0098 - acc: 0.9966 - val_loss: 0.3426 - val_acc: 0.9390\n",
      "Epoch 65/75\n",
      " - 106s - loss: 0.0090 - acc: 0.9969 - val_loss: 0.2528 - val_acc: 0.9457\n",
      "Epoch 66/75\n",
      " - 104s - loss: 0.0111 - acc: 0.9961 - val_loss: 0.3211 - val_acc: 0.9387\n",
      "Epoch 67/75\n",
      " - 106s - loss: 0.0083 - acc: 0.9972 - val_loss: 0.3012 - val_acc: 0.9437\n",
      "Epoch 68/75\n",
      " - 107s - loss: 0.0082 - acc: 0.9973 - val_loss: 0.3053 - val_acc: 0.9470\n",
      "Epoch 69/75\n",
      " - 108s - loss: 0.0115 - acc: 0.9962 - val_loss: 0.3276 - val_acc: 0.9360\n",
      "Epoch 70/75\n",
      " - 107s - loss: 0.0092 - acc: 0.9969 - val_loss: 0.3795 - val_acc: 0.9233\n",
      "Epoch 71/75\n",
      " - 107s - loss: 0.0088 - acc: 0.9969 - val_loss: 0.3047 - val_acc: 0.9425\n",
      "Epoch 72/75\n",
      " - 106s - loss: 0.0078 - acc: 0.9972 - val_loss: 0.3147 - val_acc: 0.9482\n",
      "Epoch 73/75\n",
      " - 107s - loss: 0.0092 - acc: 0.9968 - val_loss: 0.3313 - val_acc: 0.9455\n",
      "Epoch 74/75\n",
      " - 103s - loss: 0.0112 - acc: 0.9964 - val_loss: 0.3013 - val_acc: 0.9487\n",
      "Epoch 75/75\n",
      " - 102s - loss: 0.0079 - acc: 0.9973 - val_loss: 0.2808 - val_acc: 0.9482\n"
     ]
    }
   ],
   "source": [
    "history = model.fit(X_train, y_train, \n",
    "                    epochs=75, \n",
    "                    batch_size=batch_size, \n",
    "                    verbose=2, \n",
    "                    validation_data=(X_test, y_test), \n",
    "                    callbacks=[lrate])"
   ]
  },
  {
   "cell_type": "code",
   "execution_count": 25,
   "metadata": {
    "execution": {
     "iopub.execute_input": "2022-10-28T11:18:47.437838Z",
     "iopub.status.busy": "2022-10-28T11:18:47.437537Z",
     "iopub.status.idle": "2022-10-28T11:18:47.518245Z",
     "shell.execute_reply": "2022-10-28T11:18:47.517191Z",
     "shell.execute_reply.started": "2022-10-28T11:18:47.437800Z"
    }
   },
   "outputs": [],
   "source": [
    "model.save('my_model')"
   ]
  },
  {
   "cell_type": "code",
   "execution_count": 26,
   "metadata": {
    "_uuid": "d43023d26a87e3c4702b96bea5962c990c76aa0a",
    "execution": {
     "iopub.status.busy": "2022-10-28T11:16:16.260403Z",
     "iopub.status.idle": "2022-10-28T11:16:16.260734Z"
    }
   },
   "outputs": [],
   "source": [
    "y_pred = model.predict(X_test, batch_size=1000)"
   ]
  },
  {
   "cell_type": "code",
   "execution_count": 27,
   "metadata": {
    "_uuid": "20cfe7f5891e3c26c599fa4cd728ac0a499ac70e",
    "collapsed": true,
    "jupyter": {
     "outputs_hidden": true
    }
   },
   "outputs": [
    {
     "name": "stdout",
     "output_type": "stream",
     "text": [
      "             precision    recall  f1-score   support\n",
      "\n",
      "          0       0.82      1.00      0.90       800\n",
      "          1       1.00      0.85      0.91       800\n",
      "          2       0.98      0.96      0.97       800\n",
      "          3       0.99      0.94      0.96       800\n",
      "          4       0.99      0.99      0.99       800\n",
      "\n",
      "avg / total       0.96      0.95      0.95      4000\n",
      "\n"
     ]
    }
   ],
   "source": [
    "print(classification_report(y_test.argmax(axis=1), y_pred.argmax(axis=1)))"
   ]
  },
  {
   "cell_type": "code",
   "execution_count": 28,
   "metadata": {
    "_uuid": "017f2431a45766fb0d4b2ef17ce613c1142ca085",
    "collapsed": true,
    "jupyter": {
     "outputs_hidden": true
    }
   },
   "outputs": [
    {
     "name": "stdout",
     "output_type": "stream",
     "text": [
      "ranking-based average precision : 0.973\n",
      "Ranking loss : 0.016\n",
      "Coverage_error : 1.062\n"
     ]
    }
   ],
   "source": [
    "print(\"ranking-based average precision : {:.3f}\".format(label_ranking_average_precision_score(y_test.todense(), y_pred)))\n",
    "print(\"Ranking loss : {:.3f}\".format(label_ranking_loss(y_test.todense(), y_pred)))\n",
    "print(\"Coverage_error : {:.3f}\".format(coverage_error(y_test.todense(), y_pred)))"
   ]
  },
  {
   "cell_type": "code",
   "execution_count": 29,
   "metadata": {
    "_uuid": "0fcf027f00a7031dd7dc7d25c0c6ff362c39954b",
    "collapsed": true,
    "jupyter": {
     "outputs_hidden": true
    }
   },
   "outputs": [
    {
     "name": "stdout",
     "output_type": "stream",
     "text": [
      "Confusion matrix, without normalization\n"
     ]
    },
    {
     "data": {
      "image/png": "[encoded data removed]",
      "text/plain": [
       "<matplotlib.figure.Figure at 0x7f54419e4828>"
      ]
     },
     "metadata": {},
     "output_type": "display_data"
    }
   ],
   "source": [
    "def plot_confusion_matrix(cm, classes,\n",
    "                          normalize=False,\n",
    "                          title='Confusion matrix',\n",
    "                          cmap=plt.cm.Blues):\n",
    "    \"\"\"\n",
    "    This function prints and plots the confusion matrix.\n",
    "    Normalization can be applied by setting `normalize=True`.\n",
    "    \"\"\"\n",
    "    if normalize:\n",
    "        cm = cm.astype('float') / cm.sum(axis=1)[:, np.newaxis]\n",
    "        print(\"Normalized confusion matrix\")\n",
    "    else:\n",
    "        print('Confusion matrix, without normalization')\n",
    "\n",
    "    plt.imshow(cm, interpolation='nearest', cmap=cmap)\n",
    "    plt.title(title)\n",
    "    plt.colorbar()\n",
    "    tick_marks = np.arange(len(classes))\n",
    "    plt.xticks(tick_marks, classes, rotation=45)\n",
    "    plt.yticks(tick_marks, classes)\n",
    "\n",
    "    fmt = '.2f' if normalize else 'd'\n",
    "    thresh = cm.max() / 2.\n",
    "    for i, j in itertools.product(range(cm.shape[0]), range(cm.shape[1])):\n",
    "        plt.text(j, i, format(cm[i, j], fmt),\n",
    "                 horizontalalignment=\"center\",\n",
    "                 color=\"white\" if cm[i, j] > thresh else \"black\")\n",
    "\n",
    "    plt.tight_layout()\n",
    "    plt.ylabel('True label')\n",
    "    plt.xlabel('Predicted label')\n",
    "\n",
    "# Compute confusion matrix\n",
    "cnf_matrix = confusion_matrix(y_test.argmax(axis=1), y_pred.argmax(axis=1))\n",
    "np.set_printoptions(precision=2)\n",
    "\n",
    "# Plot non-normalized confusion matrix\n",
    "plt.figure(figsize=(10, 10))\n",
    "plot_confusion_matrix(cnf_matrix, classes=['N', 'S', 'V', 'F', 'Q'],\n",
    "                      title='Confusion matrix, without normalization')\n",
    "plt.show()"
   ]
  }
 ],
 "metadata": {
  "kernelspec": {
   "display_name": "Python 3",
   "language": "python",
   "name": "python3"
  },
  "language_info": {
   "codemirror_mode": {
    "name": "ipython",
    "version": 3
   },
   "file_extension": ".py",
   "mimetype": "text/x-python",
   "name": "python",
   "nbconvert_exporter": "python",
   "pygments_lexer": "ipython3",
   "version": "3.6.4"
  }
 },
 "nbformat": 4,
 "nbformat_minor": 4
}
