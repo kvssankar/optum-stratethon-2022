{
 "cells": [
  {
   "cell_type": "markdown",
   "id": "6bc8a4dc",
   "metadata": {
    "papermill": {
     "duration": 0.006009,
     "end_time": "2022-10-28T11:12:29.819945",
     "exception": false,
     "start_time": "2022-10-28T11:12:29.813936",
     "status": "completed"
    },
    "tags": []
   },
   "source": [
    "# Rehospitalisation -> admitted again within 30 days"
   ]
  },
  {
   "cell_type": "code",
   "execution_count": 1,
   "id": "4fd3b225",
   "metadata": {
    "execution": {
     "iopub.execute_input": "2022-10-28T11:12:29.831634Z",
     "iopub.status.busy": "2022-10-28T11:12:29.830663Z",
     "iopub.status.idle": "2022-10-28T11:12:36.149000Z",
     "shell.execute_reply": "2022-10-28T11:12:36.147792Z"
    },
    "papermill": {
     "duration": 6.327653,
     "end_time": "2022-10-28T11:12:36.152044",
     "exception": false,
     "start_time": "2022-10-28T11:12:29.824391",
     "status": "completed"
    },
    "tags": []
   },
   "outputs": [
    {
     "data": {
      "text/html": [
       "<style type='text/css'>\n",
       ".datatable table.frame { margin-bottom: 0; }\n",
       ".datatable table.frame thead { border-bottom: none; }\n",
       ".datatable table.frame tr.coltypes td {  color: #FFFFFF;  line-height: 6px;  padding: 0 0.5em;}\n",
       ".datatable .bool    { background: #DDDD99; }\n",
       ".datatable .object  { background: #565656; }\n",
       ".datatable .int     { background: #5D9E5D; }\n",
       ".datatable .float   { background: #4040CC; }\n",
       ".datatable .str     { background: #CC4040; }\n",
       ".datatable .time    { background: #40CC40; }\n",
       ".datatable .row_index {  background: var(--jp-border-color3);  border-right: 1px solid var(--jp-border-color0);  color: var(--jp-ui-font-color3);  font-size: 9px;}\n",
       ".datatable .frame tbody td { text-align: left; }\n",
       ".datatable .frame tr.coltypes .row_index {  background: var(--jp-border-color0);}\n",
       ".datatable th:nth-child(2) { padding-left: 12px; }\n",
       ".datatable .hellipsis {  color: var(--jp-cell-editor-border-color);}\n",
       ".datatable .vellipsis {  background: var(--jp-layout-color0);  color: var(--jp-cell-editor-border-color);}\n",
       ".datatable .na {  color: var(--jp-cell-editor-border-color);  font-size: 80%;}\n",
       ".datatable .sp {  opacity: 0.25;}\n",
       ".datatable .footer { font-size: 9px; }\n",
       ".datatable .frame_dimensions {  background: var(--jp-border-color3);  border-top: 1px solid var(--jp-border-color0);  color: var(--jp-ui-font-color3);  display: inline-block;  opacity: 0.6;  padding: 1px 10px 1px 5px;}\n",
       "</style>\n"
      ],
      "text/plain": [
       "<IPython.core.display.HTML object>"
      ]
     },
     "metadata": {},
     "output_type": "display_data"
    }
   ],
   "source": [
    "import pandas as pd\n",
    "import numpy as np \n",
    "import lightgbm as lgb \n",
    "\n",
    "from tqdm import tqdm\n",
    "\n",
    "\n",
    "from keras.models import Sequential\n",
    "from keras.layers import Dense, Embedding\n",
    "from keras.utils import np_utils\n",
    "from keras.preprocessing.text import Tokenizer\n",
    "from keras.preprocessing.sequence import pad_sequences\n",
    "\n",
    "from sklearn.preprocessing import MinMaxScaler\n",
    "from sklearn.model_selection import train_test_split\n",
    "from sklearn.metrics import accuracy_score,confusion_matrix\n",
    "\n",
    "\n",
    "import pickle"
   ]
  },
  {
   "cell_type": "code",
   "execution_count": 2,
   "id": "55da1832",
   "metadata": {
    "execution": {
     "iopub.execute_input": "2022-10-28T11:12:36.163510Z",
     "iopub.status.busy": "2022-10-28T11:12:36.162760Z",
     "iopub.status.idle": "2022-10-28T11:13:06.298046Z",
     "shell.execute_reply": "2022-10-28T11:13:06.296979Z"
    },
    "papermill": {
     "duration": 30.143754,
     "end_time": "2022-10-28T11:13:06.300725",
     "exception": false,
     "start_time": "2022-10-28T11:12:36.156971",
     "status": "completed"
    },
    "tags": []
   },
   "outputs": [],
   "source": [
    "encounters = pd.read_csv(\"../input/syntheacovid100k/100k_synthea_covid19_csv/encounters.csv\")\n",
    "encounters['START'] = pd.to_datetime(encounters['START'])\n",
    "encounters['STOP'] = pd.to_datetime(encounters['STOP'])\n",
    "\n",
    "encounters = encounters.iloc[:100000]"
   ]
  },
  {
   "cell_type": "code",
   "execution_count": 3,
   "id": "6c324eee",
   "metadata": {
    "execution": {
     "iopub.execute_input": "2022-10-28T11:13:06.312287Z",
     "iopub.status.busy": "2022-10-28T11:13:06.311933Z",
     "iopub.status.idle": "2022-10-28T11:14:26.628891Z",
     "shell.execute_reply": "2022-10-28T11:14:26.627311Z"
    },
    "papermill": {
     "duration": 80.325476,
     "end_time": "2022-10-28T11:14:26.631684",
     "exception": false,
     "start_time": "2022-10-28T11:13:06.306208",
     "status": "completed"
    },
    "tags": []
   },
   "outputs": [
    {
     "name": "stderr",
     "output_type": "stream",
     "text": [
      "100%|██████████| 3839/3839 [01:20<00:00, 47.85it/s]\n"
     ]
    }
   ],
   "source": [
    "negtable = table = pd.DataFrame()\n",
    "grouped_df = encounters.groupby('PATIENT')\n",
    "for (patient_id, df) in tqdm(grouped_df):\n",
    "    df.sort_values(by = ['START', 'STOP'],inplace = True)\n",
    "    df['shifted_stop'] = df['STOP'].shift(1)\n",
    "    df['diff'] = df['START'] - df['shifted_stop']\n",
    "    df['diff_days'] = df['diff'].apply(lambda x : x.days if type(x) != type(1) else 50)\n",
    "    # rehospital = sample[sample['diff_days'] <= 30]\n",
    "    df['diff_days_1'] = df['diff_days'].shift(-1).fillna(False)\n",
    "    negtable = pd.concat([negtable,df[df['diff_days'] > 30]])\n",
    "    df = df[(df['diff_days'] <= 30).shift(-1).fillna(False)]\n",
    "    \n",
    "    table = pd.concat([table,df])\n",
    "    "
   ]
  },
  {
   "cell_type": "code",
   "execution_count": 4,
   "id": "a8617ab0",
   "metadata": {
    "execution": {
     "iopub.execute_input": "2022-10-28T11:14:26.729116Z",
     "iopub.status.busy": "2022-10-28T11:14:26.728157Z",
     "iopub.status.idle": "2022-10-28T11:14:26.763963Z",
     "shell.execute_reply": "2022-10-28T11:14:26.762763Z"
    },
    "papermill": {
     "duration": 0.08741,
     "end_time": "2022-10-28T11:14:26.766644",
     "exception": false,
     "start_time": "2022-10-28T11:14:26.679234",
     "status": "completed"
    },
    "tags": []
   },
   "outputs": [],
   "source": [
    "table.drop(columns = ['START', 'STOP', 'PATIENT', 'ORGANIZATION',\n",
    "       'PROVIDER', 'PAYER','REASONDESCRIPTION', 'shifted_stop', 'diff'], inplace = True)\n",
    "negtable.drop(columns = [ 'START', 'STOP', 'PATIENT', 'ORGANIZATION',\n",
    "       'PROVIDER', 'PAYER','REASONDESCRIPTION', 'shifted_stop', 'diff'], inplace = True)"
   ]
  },
  {
   "cell_type": "code",
   "execution_count": 5,
   "id": "32f30634",
   "metadata": {
    "execution": {
     "iopub.execute_input": "2022-10-28T11:14:26.863674Z",
     "iopub.status.busy": "2022-10-28T11:14:26.863241Z",
     "iopub.status.idle": "2022-10-28T11:14:26.921246Z",
     "shell.execute_reply": "2022-10-28T11:14:26.919971Z"
    },
    "papermill": {
     "duration": 0.109233,
     "end_time": "2022-10-28T11:14:26.923816",
     "exception": false,
     "start_time": "2022-10-28T11:14:26.814583",
     "status": "completed"
    },
    "tags": []
   },
   "outputs": [],
   "source": [
    "final_table = pd.concat([table, negtable])\n",
    "final_table['diff_days'].fillna(0, inplace = True)\n",
    "final_table['diff_days_1'] = final_table['diff_days_1'].apply(lambda x : 1 if x <= 30 else 0 )\n",
    "final_table['REASONCODE'].fillna(-1, inplace = True)"
   ]
  },
  {
   "cell_type": "code",
   "execution_count": 6,
   "id": "62d5f6ef",
   "metadata": {
    "execution": {
     "iopub.execute_input": "2022-10-28T11:14:27.020620Z",
     "iopub.status.busy": "2022-10-28T11:14:27.019828Z",
     "iopub.status.idle": "2022-10-28T11:15:52.385065Z",
     "shell.execute_reply": "2022-10-28T11:15:52.383985Z"
    },
    "papermill": {
     "duration": 85.416347,
     "end_time": "2022-10-28T11:15:52.387668",
     "exception": false,
     "start_time": "2022-10-28T11:14:26.971321",
     "status": "completed"
    },
    "tags": []
   },
   "outputs": [],
   "source": [
    "conditions = pd.read_csv(\"../input/syntheacovid100k/100k_synthea_covid19_csv/conditions.csv\")\n",
    "conditions_desc = conditions.groupby('ENCOUNTER')['DESCRIPTION'].apply(lambda x: \" \".join(x)).reset_index()\n",
    "conditions_desc.columns = ['Id', 'Condition']\n",
    "\n",
    "\n",
    "medications = pd.read_csv(\"../input/syntheacovid100k/100k_synthea_covid19_csv/medications.csv\")\n",
    "medication_desc = medications.groupby('ENCOUNTER')['DESCRIPTION'].apply(lambda x: \" \".join(x)).reset_index()\n",
    "medication_desc.columns = ['Id', 'Medication']\n"
   ]
  },
  {
   "cell_type": "code",
   "execution_count": 7,
   "id": "980406f0",
   "metadata": {
    "execution": {
     "iopub.execute_input": "2022-10-28T11:15:52.492940Z",
     "iopub.status.busy": "2022-10-28T11:15:52.491860Z",
     "iopub.status.idle": "2022-10-28T11:15:55.553186Z",
     "shell.execute_reply": "2022-10-28T11:15:55.552022Z"
    },
    "papermill": {
     "duration": 3.120744,
     "end_time": "2022-10-28T11:15:55.555840",
     "exception": false,
     "start_time": "2022-10-28T11:15:52.435096",
     "status": "completed"
    },
    "tags": []
   },
   "outputs": [],
   "source": [
    "final_table = final_table.merge(medication_desc, on = 'Id')\n",
    "final_table = final_table.merge(conditions_desc, on = 'Id')"
   ]
  },
  {
   "cell_type": "code",
   "execution_count": 8,
   "id": "07765f5f",
   "metadata": {
    "execution": {
     "iopub.execute_input": "2022-10-28T11:15:55.650206Z",
     "iopub.status.busy": "2022-10-28T11:15:55.649536Z",
     "iopub.status.idle": "2022-10-28T11:15:55.659982Z",
     "shell.execute_reply": "2022-10-28T11:15:55.659092Z"
    },
    "papermill": {
     "duration": 0.059965,
     "end_time": "2022-10-28T11:15:55.662107",
     "exception": false,
     "start_time": "2022-10-28T11:15:55.602142",
     "status": "completed"
    },
    "tags": []
   },
   "outputs": [],
   "source": [
    "\n",
    "\n",
    "class CategoricalStringToEmbedding:\n",
    "    def __init__(self, num_features, max_words,texts):\n",
    "        self.texts = texts\n",
    "        self.num_features = num_features\n",
    "        self.max_words = max_words\n",
    "        self.max_features = self.max_words\n",
    "        self.tokenizer = Tokenizer(num_words=max_words, \n",
    "                     filters='!\"#$%&()*+,/:;<=>?@[\\\\]^`{|}~\\t\\n',)\n",
    "        self.tokenizer.fit_on_texts(self.texts)\n",
    "        self.sequences = self.tokenizer.texts_to_sequences(self.texts)\n",
    "        self.data = pad_sequences(self.sequences, maxlen=self.num_features, padding='post', truncating='post', value=0.0)\n",
    "        print(self.data.shape)\n",
    "        self.embedding = Sequential()\n",
    "        self.embedding.add(Embedding(self.max_features, 1, input_length=self.max_words))\n",
    "    \n",
    "    def create_embeddings(self,placeholder):\n",
    "        output_array = self.embedding.predict(self.data)\n",
    "        print(output_array.shape)\n",
    "        VectFeat = []\n",
    "\n",
    "        for rowNum in range(output_array.shape[0]):\n",
    "            VectFeat.append(output_array[rowNum].flatten())\n",
    "\n",
    "        VectFeat = pd.DataFrame(VectFeat)\n",
    "        VectFeat.columns=[f\"{placeholder}\"+str(i) for i in range(0, self.num_features)]\n",
    "\n",
    "        return VectFeat"
   ]
  },
  {
   "cell_type": "code",
   "execution_count": 9,
   "id": "b5635d2d",
   "metadata": {
    "execution": {
     "iopub.execute_input": "2022-10-28T11:15:55.757388Z",
     "iopub.status.busy": "2022-10-28T11:15:55.756782Z",
     "iopub.status.idle": "2022-10-28T11:15:56.737340Z",
     "shell.execute_reply": "2022-10-28T11:15:56.736019Z"
    },
    "papermill": {
     "duration": 1.03054,
     "end_time": "2022-10-28T11:15:56.739594",
     "exception": false,
     "start_time": "2022-10-28T11:15:55.709054",
     "status": "completed"
    },
    "tags": []
   },
   "outputs": [
    {
     "name": "stdout",
     "output_type": "stream",
     "text": [
      "(5611, 20)\n"
     ]
    },
    {
     "name": "stderr",
     "output_type": "stream",
     "text": [
      "2022-10-28 11:15:55.992609: I tensorflow/core/common_runtime/process_util.cc:146] Creating new thread pool with default inter op setting: 2. Tune using inter_op_parallelism_threads for best performance.\n",
      "2022-10-28 11:15:56.114770: I tensorflow/compiler/mlir/mlir_graph_optimization_pass.cc:185] None of the MLIR Optimization Passes are enabled (registered 2)\n"
     ]
    },
    {
     "name": "stdout",
     "output_type": "stream",
     "text": [
      "(5611, 20, 1)\n",
      "(5611, 20)\n",
      "(5611, 20, 1)\n"
     ]
    }
   ],
   "source": [
    "medication_embedding = CategoricalStringToEmbedding(num_features = 20, max_words = 200, texts = final_table['Medication'].tolist())\n",
    "medication_values = medication_embedding.create_embeddings(\"medication\")\n",
    "\n",
    "condition_embedding = CategoricalStringToEmbedding(num_features = 20, max_words = 200, texts = final_table['Condition'].tolist())\n",
    "condition_values = condition_embedding.create_embeddings(\"condition\")"
   ]
  },
  {
   "cell_type": "code",
   "execution_count": 10,
   "id": "d2bf3ce5",
   "metadata": {
    "execution": {
     "iopub.execute_input": "2022-10-28T11:15:56.835899Z",
     "iopub.status.busy": "2022-10-28T11:15:56.835478Z",
     "iopub.status.idle": "2022-10-28T11:15:56.849193Z",
     "shell.execute_reply": "2022-10-28T11:15:56.848145Z"
    },
    "papermill": {
     "duration": 0.064475,
     "end_time": "2022-10-28T11:15:56.851426",
     "exception": false,
     "start_time": "2022-10-28T11:15:56.786951",
     "status": "completed"
    },
    "tags": []
   },
   "outputs": [],
   "source": [
    "final_table = pd.concat([final_table,medication_values], axis = 1)\n",
    "final_table = pd.concat([final_table, condition_values], axis = 1)\n",
    "final_table= final_table.reset_index()\n",
    "final_table.drop(columns = ['index', 'Id','DESCRIPTION','Condition','Medication'], inplace = True)"
   ]
  },
  {
   "cell_type": "code",
   "execution_count": 11,
   "id": "a635cd82",
   "metadata": {
    "execution": {
     "iopub.execute_input": "2022-10-28T11:15:56.948968Z",
     "iopub.status.busy": "2022-10-28T11:15:56.948360Z",
     "iopub.status.idle": "2022-10-28T11:15:56.962058Z",
     "shell.execute_reply": "2022-10-28T11:15:56.960955Z"
    },
    "papermill": {
     "duration": 0.064944,
     "end_time": "2022-10-28T11:15:56.964460",
     "exception": false,
     "start_time": "2022-10-28T11:15:56.899516",
     "status": "completed"
    },
    "tags": []
   },
   "outputs": [],
   "source": [
    "cat_cols = ['ENCOUNTERCLASS']\n",
    "int_cols = ['CODE', 'BASE_ENCOUNTER_COST', 'TOTAL_CLAIM_COST', 'PAYER_COVERAGE','REASONCODE', 'diff_days',\n",
    "           'condition0', 'condition1', 'condition2', 'condition3', 'condition4',\n",
    "       'condition5', 'condition6', 'condition7', 'condition8', 'condition9',\n",
    "       'condition10', 'condition11', 'condition12', 'condition13',\n",
    "       'condition14', 'condition15', 'condition16', 'condition17',\n",
    "       'condition18', 'condition19','medication0', 'medication1', 'medication2', 'medication3',\n",
    "       'medication4', 'medication5', 'medication6', 'medication7',\n",
    "       'medication8', 'medication9', 'medication10', 'medication11',\n",
    "       'medication12', 'medication13', 'medication14', 'medication15',\n",
    "       'medication16', 'medication17', 'medication18', 'medication19']\n",
    "\n",
    "\n",
    "\n",
    "X = final_table[cat_cols + int_cols]\n",
    "y = final_table['diff_days_1']\n",
    "\n",
    "\n",
    "X_train, X_test,y_train, y_test = train_test_split(X, y , test_size = 0.2, shuffle = True, random_state = True)"
   ]
  },
  {
   "cell_type": "code",
   "execution_count": 12,
   "id": "2b901c4c",
   "metadata": {
    "execution": {
     "iopub.execute_input": "2022-10-28T11:15:57.061081Z",
     "iopub.status.busy": "2022-10-28T11:15:57.060648Z",
     "iopub.status.idle": "2022-10-28T11:15:57.352872Z",
     "shell.execute_reply": "2022-10-28T11:15:57.351859Z"
    },
    "papermill": {
     "duration": 0.343283,
     "end_time": "2022-10-28T11:15:57.355554",
     "exception": false,
     "start_time": "2022-10-28T11:15:57.012271",
     "status": "completed"
    },
    "tags": []
   },
   "outputs": [
    {
     "data": {
      "text/plain": [
       "LGBMClassifier()"
      ]
     },
     "execution_count": 12,
     "metadata": {},
     "output_type": "execute_result"
    }
   ],
   "source": [
    "scaler = MinMaxScaler()\n",
    "scaler.fit(X_train[int_cols])\n",
    "X_train[int_cols] = scaler.transform(X_train[int_cols])\n",
    "X_test[int_cols] = scaler.transform(X_test[int_cols])\n",
    "\n",
    "X_train[cat_cols] = X_train[cat_cols].apply(lambda x : x.astype('category'))\n",
    "\n",
    "clf = lgb.LGBMClassifier()\n",
    "clf.fit(X_train, y_train)"
   ]
  },
  {
   "cell_type": "code",
   "execution_count": 13,
   "id": "965cfb9c",
   "metadata": {
    "execution": {
     "iopub.execute_input": "2022-10-28T11:15:57.454036Z",
     "iopub.status.busy": "2022-10-28T11:15:57.453544Z",
     "iopub.status.idle": "2022-10-28T11:15:57.479937Z",
     "shell.execute_reply": "2022-10-28T11:15:57.479029Z"
    },
    "papermill": {
     "duration": 0.078633,
     "end_time": "2022-10-28T11:15:57.482285",
     "exception": false,
     "start_time": "2022-10-28T11:15:57.403652",
     "status": "completed"
    },
    "tags": []
   },
   "outputs": [
    {
     "data": {
      "text/plain": [
       "(0.9296527159394479,\n",
       " array([[461,  35],\n",
       "        [ 44, 583]]))"
      ]
     },
     "execution_count": 13,
     "metadata": {},
     "output_type": "execute_result"
    }
   ],
   "source": [
    "X_test[cat_cols] = X_test[cat_cols].apply(lambda x : x.astype('category'))\n",
    "y_pred = clf.predict(X_test)\n",
    "accuracy_score(y_test,y_pred),confusion_matrix(y_test, y_pred)"
   ]
  },
  {
   "cell_type": "code",
   "execution_count": 14,
   "id": "a62eface",
   "metadata": {
    "execution": {
     "iopub.execute_input": "2022-10-28T11:15:57.581397Z",
     "iopub.status.busy": "2022-10-28T11:15:57.580787Z",
     "iopub.status.idle": "2022-10-28T11:15:57.596485Z",
     "shell.execute_reply": "2022-10-28T11:15:57.595561Z"
    },
    "papermill": {
     "duration": 0.067495,
     "end_time": "2022-10-28T11:15:57.598883",
     "exception": false,
     "start_time": "2022-10-28T11:15:57.531388",
     "status": "completed"
    },
    "tags": []
   },
   "outputs": [],
   "source": [
    "with open('rehospitalisation_data_scaler.pkl', 'wb') as fid:\n",
    "    pickle.dump(scaler, fid) \n",
    "\n",
    "with open('rehospitalisation_model.pkl', 'wb') as fid:\n",
    "    pickle.dump(clf, fid) "
   ]
  },
  {
   "cell_type": "code",
   "execution_count": 15,
   "id": "c1e9bd0e",
   "metadata": {
    "execution": {
     "iopub.execute_input": "2022-10-28T11:15:57.697370Z",
     "iopub.status.busy": "2022-10-28T11:15:57.696994Z",
     "iopub.status.idle": "2022-10-28T11:15:58.852475Z",
     "shell.execute_reply": "2022-10-28T11:15:58.851304Z"
    },
    "papermill": {
     "duration": 1.206953,
     "end_time": "2022-10-28T11:15:58.855116",
     "exception": false,
     "start_time": "2022-10-28T11:15:57.648163",
     "status": "completed"
    },
    "tags": []
   },
   "outputs": [
    {
     "name": "stdout",
     "output_type": "stream",
     "text": [
      "__notebook__.ipynb\t\t   rehospitalisation_model.pkl\r\n",
      "rehospitalisation_data_scaler.pkl\r\n"
     ]
    }
   ],
   "source": [
    "!ls"
   ]
  }
 ],
 "metadata": {
  "kernelspec": {
   "display_name": "Python 3",
   "language": "python",
   "name": "python3"
  },
  "language_info": {
   "codemirror_mode": {
    "name": "ipython",
    "version": 3
   },
   "file_extension": ".py",
   "mimetype": "text/x-python",
   "name": "python",
   "nbconvert_exporter": "python",
   "pygments_lexer": "ipython3",
   "version": "3.7.12"
  },
  "papermill": {
   "default_parameters": {},
   "duration": 220.182634,
   "end_time": "2022-10-28T11:16:02.201935",
   "environment_variables": {},
   "exception": null,
   "input_path": "__notebook__.ipynb",
   "output_path": "__notebook__.ipynb",
   "parameters": {},
   "start_time": "2022-10-28T11:12:22.019301",
   "version": "2.3.4"
  }
 },
 "nbformat": 4,
 "nbformat_minor": 5
}
